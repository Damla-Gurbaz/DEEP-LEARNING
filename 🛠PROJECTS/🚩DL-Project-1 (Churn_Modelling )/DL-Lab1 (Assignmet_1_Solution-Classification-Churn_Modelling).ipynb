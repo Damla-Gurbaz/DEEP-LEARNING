{
 "cells": [
  {
   "cell_type": "markdown",
   "metadata": {},
   "source": [
    "# Keras Classification"
   ]
  },
  {
   "cell_type": "markdown",
   "metadata": {},
   "source": [
    "<span class=\"girk\">We have a dataset in which there are details of a bank's customers and the target variable is a binary variable reflecting the fact whether the customer left the bank (closed his account) or he continues to be a customer.</span>"
   ]
  },
  {
   "cell_type": "markdown",
   "metadata": {},
   "source": [
    "---\n",
    "---"
   ]
  },
  {
   "cell_type": "markdown",
   "metadata": {
    "cell_style": "center"
   },
   "source": [
    "## Import  libraries & data"
   ]
  },
  {
   "cell_type": "code",
   "execution_count": 75,
   "metadata": {
    "cell_style": "center",
    "executionInfo": {
     "elapsed": 991,
     "status": "ok",
     "timestamp": 1610201325502,
     "user": {
      "displayName": "Richard C",
      "photoUrl": "",
      "userId": "08040814671867660929"
     },
     "user_tz": -180
    },
    "id": "6VD4eWBQcze2"
   },
   "outputs": [],
   "source": [
    "import numpy as np\n",
    "import pandas as pd\n",
    "import seaborn as sns\n",
    "import matplotlib.pyplot as plt\n",
    "\n",
    "%matplotlib inline\n",
    "# %matplotlib notebook\n",
    "plt.rcParams[\"figure.figsize\"] = (12, 6)\n",
    "# plt.rcParams['figure.dpi'] = 100\n",
    "sns.set_style(\"whitegrid\")\n",
    "import warnings\n",
    "\n",
    "warnings.filterwarnings(\"ignore\")\n",
    "warnings.warn(\"this will not show\")\n",
    "pd.set_option('display.float_format', lambda x: '%.3f' % x)"
   ]
  },
  {
   "cell_type": "code",
   "execution_count": 76,
   "metadata": {
    "cell_style": "center",
    "executionInfo": {
     "elapsed": 829,
     "status": "ok",
     "timestamp": 1610204616389,
     "user": {
      "displayName": "Richard C",
      "photoUrl": "",
      "userId": "08040814671867660929"
     },
     "user_tz": -180
    },
    "id": "YzzxpfNaoFyZ"
   },
   "outputs": [],
   "source": [
    "from tensorflow.keras.models import Sequential\n",
    "from tensorflow.keras.layers import Dense, Activation, Dropout\n",
    "from tensorflow.keras.callbacks import EarlyStopping\n",
    "from tensorflow.keras.optimizers import Adam\n",
    "from sklearn.metrics import classification_report, confusion_matrix\n",
    "from sklearn.metrics import roc_auc_score, roc_curve, precision_recall_curve, average_precision_score\n",
    "from sklearn.model_selection import cross_val_score, cross_validate\n",
    "from sklearn.model_selection import GridSearchCV"
   ]
  },
  {
   "cell_type": "code",
   "execution_count": 77,
   "metadata": {},
   "outputs": [
    {
     "data": {
      "text/html": [
       "<div>\n",
       "<style scoped>\n",
       "    .dataframe tbody tr th:only-of-type {\n",
       "        vertical-align: middle;\n",
       "    }\n",
       "\n",
       "    .dataframe tbody tr th {\n",
       "        vertical-align: top;\n",
       "    }\n",
       "\n",
       "    .dataframe thead th {\n",
       "        text-align: right;\n",
       "    }\n",
       "</style>\n",
       "<table border=\"1\" class=\"dataframe\">\n",
       "  <thead>\n",
       "    <tr style=\"text-align: right;\">\n",
       "      <th></th>\n",
       "      <th>CustomerId</th>\n",
       "      <th>Surname</th>\n",
       "      <th>CreditScore</th>\n",
       "      <th>Geography</th>\n",
       "      <th>Gender</th>\n",
       "      <th>Age</th>\n",
       "      <th>Tenure</th>\n",
       "      <th>Balance</th>\n",
       "      <th>NumOfProducts</th>\n",
       "      <th>HasCrCard</th>\n",
       "      <th>IsActiveMember</th>\n",
       "      <th>EstimatedSalary</th>\n",
       "      <th>Exited</th>\n",
       "    </tr>\n",
       "    <tr>\n",
       "      <th>RowNumber</th>\n",
       "      <th></th>\n",
       "      <th></th>\n",
       "      <th></th>\n",
       "      <th></th>\n",
       "      <th></th>\n",
       "      <th></th>\n",
       "      <th></th>\n",
       "      <th></th>\n",
       "      <th></th>\n",
       "      <th></th>\n",
       "      <th></th>\n",
       "      <th></th>\n",
       "      <th></th>\n",
       "    </tr>\n",
       "  </thead>\n",
       "  <tbody>\n",
       "    <tr>\n",
       "      <th>1</th>\n",
       "      <td>15634602</td>\n",
       "      <td>Hargrave</td>\n",
       "      <td>619</td>\n",
       "      <td>France</td>\n",
       "      <td>Female</td>\n",
       "      <td>42</td>\n",
       "      <td>2</td>\n",
       "      <td>0.000</td>\n",
       "      <td>1</td>\n",
       "      <td>1</td>\n",
       "      <td>1</td>\n",
       "      <td>101348.880</td>\n",
       "      <td>1</td>\n",
       "    </tr>\n",
       "    <tr>\n",
       "      <th>2</th>\n",
       "      <td>15647311</td>\n",
       "      <td>Hill</td>\n",
       "      <td>608</td>\n",
       "      <td>Spain</td>\n",
       "      <td>Female</td>\n",
       "      <td>41</td>\n",
       "      <td>1</td>\n",
       "      <td>83807.860</td>\n",
       "      <td>1</td>\n",
       "      <td>0</td>\n",
       "      <td>1</td>\n",
       "      <td>112542.580</td>\n",
       "      <td>0</td>\n",
       "    </tr>\n",
       "    <tr>\n",
       "      <th>3</th>\n",
       "      <td>15619304</td>\n",
       "      <td>Onio</td>\n",
       "      <td>502</td>\n",
       "      <td>France</td>\n",
       "      <td>Female</td>\n",
       "      <td>42</td>\n",
       "      <td>8</td>\n",
       "      <td>159660.800</td>\n",
       "      <td>3</td>\n",
       "      <td>1</td>\n",
       "      <td>0</td>\n",
       "      <td>113931.570</td>\n",
       "      <td>1</td>\n",
       "    </tr>\n",
       "    <tr>\n",
       "      <th>4</th>\n",
       "      <td>15701354</td>\n",
       "      <td>Boni</td>\n",
       "      <td>699</td>\n",
       "      <td>France</td>\n",
       "      <td>Female</td>\n",
       "      <td>39</td>\n",
       "      <td>1</td>\n",
       "      <td>0.000</td>\n",
       "      <td>2</td>\n",
       "      <td>0</td>\n",
       "      <td>0</td>\n",
       "      <td>93826.630</td>\n",
       "      <td>0</td>\n",
       "    </tr>\n",
       "    <tr>\n",
       "      <th>5</th>\n",
       "      <td>15737888</td>\n",
       "      <td>Mitchell</td>\n",
       "      <td>850</td>\n",
       "      <td>Spain</td>\n",
       "      <td>Female</td>\n",
       "      <td>43</td>\n",
       "      <td>2</td>\n",
       "      <td>125510.820</td>\n",
       "      <td>1</td>\n",
       "      <td>1</td>\n",
       "      <td>1</td>\n",
       "      <td>79084.100</td>\n",
       "      <td>0</td>\n",
       "    </tr>\n",
       "  </tbody>\n",
       "</table>\n",
       "</div>"
      ],
      "text/plain": [
       "           CustomerId   Surname  CreditScore Geography  Gender  Age  Tenure  \\\n",
       "RowNumber                                                                     \n",
       "1            15634602  Hargrave          619    France  Female   42       2   \n",
       "2            15647311      Hill          608     Spain  Female   41       1   \n",
       "3            15619304      Onio          502    France  Female   42       8   \n",
       "4            15701354      Boni          699    France  Female   39       1   \n",
       "5            15737888  Mitchell          850     Spain  Female   43       2   \n",
       "\n",
       "             Balance  NumOfProducts  HasCrCard  IsActiveMember  \\\n",
       "RowNumber                                                        \n",
       "1              0.000              1          1               1   \n",
       "2          83807.860              1          0               1   \n",
       "3         159660.800              3          1               0   \n",
       "4              0.000              2          0               0   \n",
       "5         125510.820              1          1               1   \n",
       "\n",
       "           EstimatedSalary  Exited  \n",
       "RowNumber                           \n",
       "1               101348.880       1  \n",
       "2               112542.580       0  \n",
       "3               113931.570       1  \n",
       "4                93826.630       0  \n",
       "5                79084.100       0  "
      ]
     },
     "execution_count": 77,
     "metadata": {},
     "output_type": "execute_result"
    }
   ],
   "source": [
    "df = pd.read_csv(\"Churn_Modelling.csv\", index_col='RowNumber')\n",
    "df.head()"
   ]
  },
  {
   "cell_type": "markdown",
   "metadata": {
    "heading_collapsed": true
   },
   "source": [
    "## Exploratory Data Analysis and Visualization"
   ]
  },
  {
   "cell_type": "code",
   "execution_count": 78,
   "metadata": {
    "hidden": true
   },
   "outputs": [],
   "source": [
    "#!pip install pandasgui"
   ]
  },
  {
   "cell_type": "code",
   "execution_count": 79,
   "metadata": {
    "hidden": true
   },
   "outputs": [
    {
     "name": "stderr",
     "output_type": "stream",
     "text": [
      "PandasGUI INFO — pandasgui.gui — Opening PandasGUI\n"
     ]
    }
   ],
   "source": [
    "from pandasgui import show\n",
    "\n",
    "gui = show(df)"
   ]
  },
  {
   "cell_type": "code",
   "execution_count": 80,
   "metadata": {
    "cell_style": "split",
    "colab": {
     "base_uri": "https://localhost:8080/"
    },
    "executionInfo": {
     "elapsed": 854,
     "status": "ok",
     "timestamp": 1610201704635,
     "user": {
      "displayName": "Richard C",
      "photoUrl": "",
      "userId": "08040814671867660929"
     },
     "user_tz": -180
    },
    "hidden": true,
    "id": "9ROCQa9wf2uE",
    "outputId": "40e94921-6a7c-48c6-8c09-2623b6b60fa3",
    "scrolled": false
   },
   "outputs": [
    {
     "name": "stdout",
     "output_type": "stream",
     "text": [
      "<class 'pandas.core.frame.DataFrame'>\n",
      "Int64Index: 10000 entries, 1 to 10000\n",
      "Data columns (total 13 columns):\n",
      " #   Column           Non-Null Count  Dtype  \n",
      "---  ------           --------------  -----  \n",
      " 0   CustomerId       10000 non-null  int64  \n",
      " 1   Surname          10000 non-null  object \n",
      " 2   CreditScore      10000 non-null  int64  \n",
      " 3   Geography        10000 non-null  object \n",
      " 4   Gender           10000 non-null  object \n",
      " 5   Age              10000 non-null  int64  \n",
      " 6   Tenure           10000 non-null  int64  \n",
      " 7   Balance          10000 non-null  float64\n",
      " 8   NumOfProducts    10000 non-null  int64  \n",
      " 9   HasCrCard        10000 non-null  int64  \n",
      " 10  IsActiveMember   10000 non-null  int64  \n",
      " 11  EstimatedSalary  10000 non-null  float64\n",
      " 12  Exited           10000 non-null  int64  \n",
      "dtypes: float64(2), int64(8), object(3)\n",
      "memory usage: 1.1+ MB\n"
     ]
    }
   ],
   "source": [
    "df.info()"
   ]
  },
  {
   "cell_type": "code",
   "execution_count": 81,
   "metadata": {
    "cell_style": "split",
    "colab": {
     "base_uri": "https://localhost:8080/"
    },
    "executionInfo": {
     "elapsed": 798,
     "status": "ok",
     "timestamp": 1610201657421,
     "user": {
      "displayName": "Richard C",
      "photoUrl": "",
      "userId": "08040814671867660929"
     },
     "user_tz": -180
    },
    "hidden": true,
    "id": "vPyMUnVWfM0o",
    "outputId": "7a294ad3-49d9-4cea-b6a2-9824e2c0ba4a"
   },
   "outputs": [
    {
     "data": {
      "text/plain": [
       "(10000, 13)"
      ]
     },
     "execution_count": 81,
     "metadata": {},
     "output_type": "execute_result"
    }
   ],
   "source": [
    "df.shape"
   ]
  },
  {
   "cell_type": "code",
   "execution_count": 82,
   "metadata": {
    "cell_style": "split",
    "hidden": true
   },
   "outputs": [
    {
     "data": {
      "text/plain": [
       "False"
      ]
     },
     "execution_count": 82,
     "metadata": {},
     "output_type": "execute_result"
    }
   ],
   "source": [
    "df.isnull().sum().any()"
   ]
  },
  {
   "cell_type": "code",
   "execution_count": 83,
   "metadata": {
    "cell_style": "split",
    "hidden": true,
    "scrolled": true
   },
   "outputs": [
    {
     "data": {
      "text/plain": [
       "0"
      ]
     },
     "execution_count": 83,
     "metadata": {},
     "output_type": "execute_result"
    }
   ],
   "source": [
    "df.duplicated().sum()"
   ]
  },
  {
   "cell_type": "code",
   "execution_count": 84,
   "metadata": {
    "cell_style": "center",
    "colab": {
     "base_uri": "https://localhost:8080/",
     "height": 1000
    },
    "executionInfo": {
     "elapsed": 967,
     "status": "ok",
     "timestamp": 1610201729941,
     "user": {
      "displayName": "Richard C",
      "photoUrl": "",
      "userId": "08040814671867660929"
     },
     "user_tz": -180
    },
    "hidden": true,
    "id": "mdUkgZD-gCUx",
    "outputId": "cd4f6662-e8c3-4a6f-93d5-26fed83d8a82",
    "scrolled": false
   },
   "outputs": [
    {
     "data": {
      "text/html": [
       "<div>\n",
       "<style scoped>\n",
       "    .dataframe tbody tr th:only-of-type {\n",
       "        vertical-align: middle;\n",
       "    }\n",
       "\n",
       "    .dataframe tbody tr th {\n",
       "        vertical-align: top;\n",
       "    }\n",
       "\n",
       "    .dataframe thead th {\n",
       "        text-align: right;\n",
       "    }\n",
       "</style>\n",
       "<table border=\"1\" class=\"dataframe\">\n",
       "  <thead>\n",
       "    <tr style=\"text-align: right;\">\n",
       "      <th></th>\n",
       "      <th>count</th>\n",
       "      <th>mean</th>\n",
       "      <th>std</th>\n",
       "      <th>min</th>\n",
       "      <th>25%</th>\n",
       "      <th>50%</th>\n",
       "      <th>75%</th>\n",
       "      <th>max</th>\n",
       "    </tr>\n",
       "  </thead>\n",
       "  <tbody>\n",
       "    <tr>\n",
       "      <th>CustomerId</th>\n",
       "      <td>10000.000</td>\n",
       "      <td>15690940.569</td>\n",
       "      <td>71936.186</td>\n",
       "      <td>15565701.000</td>\n",
       "      <td>15628528.250</td>\n",
       "      <td>15690738.000</td>\n",
       "      <td>15753233.750</td>\n",
       "      <td>15815690.000</td>\n",
       "    </tr>\n",
       "    <tr>\n",
       "      <th>CreditScore</th>\n",
       "      <td>10000.000</td>\n",
       "      <td>650.529</td>\n",
       "      <td>96.653</td>\n",
       "      <td>350.000</td>\n",
       "      <td>584.000</td>\n",
       "      <td>652.000</td>\n",
       "      <td>718.000</td>\n",
       "      <td>850.000</td>\n",
       "    </tr>\n",
       "    <tr>\n",
       "      <th>Age</th>\n",
       "      <td>10000.000</td>\n",
       "      <td>38.922</td>\n",
       "      <td>10.488</td>\n",
       "      <td>18.000</td>\n",
       "      <td>32.000</td>\n",
       "      <td>37.000</td>\n",
       "      <td>44.000</td>\n",
       "      <td>92.000</td>\n",
       "    </tr>\n",
       "    <tr>\n",
       "      <th>Tenure</th>\n",
       "      <td>10000.000</td>\n",
       "      <td>5.013</td>\n",
       "      <td>2.892</td>\n",
       "      <td>0.000</td>\n",
       "      <td>3.000</td>\n",
       "      <td>5.000</td>\n",
       "      <td>7.000</td>\n",
       "      <td>10.000</td>\n",
       "    </tr>\n",
       "    <tr>\n",
       "      <th>Balance</th>\n",
       "      <td>10000.000</td>\n",
       "      <td>76485.889</td>\n",
       "      <td>62397.405</td>\n",
       "      <td>0.000</td>\n",
       "      <td>0.000</td>\n",
       "      <td>97198.540</td>\n",
       "      <td>127644.240</td>\n",
       "      <td>250898.090</td>\n",
       "    </tr>\n",
       "    <tr>\n",
       "      <th>NumOfProducts</th>\n",
       "      <td>10000.000</td>\n",
       "      <td>1.530</td>\n",
       "      <td>0.582</td>\n",
       "      <td>1.000</td>\n",
       "      <td>1.000</td>\n",
       "      <td>1.000</td>\n",
       "      <td>2.000</td>\n",
       "      <td>4.000</td>\n",
       "    </tr>\n",
       "    <tr>\n",
       "      <th>HasCrCard</th>\n",
       "      <td>10000.000</td>\n",
       "      <td>0.706</td>\n",
       "      <td>0.456</td>\n",
       "      <td>0.000</td>\n",
       "      <td>0.000</td>\n",
       "      <td>1.000</td>\n",
       "      <td>1.000</td>\n",
       "      <td>1.000</td>\n",
       "    </tr>\n",
       "    <tr>\n",
       "      <th>IsActiveMember</th>\n",
       "      <td>10000.000</td>\n",
       "      <td>0.515</td>\n",
       "      <td>0.500</td>\n",
       "      <td>0.000</td>\n",
       "      <td>0.000</td>\n",
       "      <td>1.000</td>\n",
       "      <td>1.000</td>\n",
       "      <td>1.000</td>\n",
       "    </tr>\n",
       "    <tr>\n",
       "      <th>EstimatedSalary</th>\n",
       "      <td>10000.000</td>\n",
       "      <td>100090.240</td>\n",
       "      <td>57510.493</td>\n",
       "      <td>11.580</td>\n",
       "      <td>51002.110</td>\n",
       "      <td>100193.915</td>\n",
       "      <td>149388.247</td>\n",
       "      <td>199992.480</td>\n",
       "    </tr>\n",
       "    <tr>\n",
       "      <th>Exited</th>\n",
       "      <td>10000.000</td>\n",
       "      <td>0.204</td>\n",
       "      <td>0.403</td>\n",
       "      <td>0.000</td>\n",
       "      <td>0.000</td>\n",
       "      <td>0.000</td>\n",
       "      <td>0.000</td>\n",
       "      <td>1.000</td>\n",
       "    </tr>\n",
       "  </tbody>\n",
       "</table>\n",
       "</div>"
      ],
      "text/plain": [
       "                    count         mean       std          min          25%  \\\n",
       "CustomerId      10000.000 15690940.569 71936.186 15565701.000 15628528.250   \n",
       "CreditScore     10000.000      650.529    96.653      350.000      584.000   \n",
       "Age             10000.000       38.922    10.488       18.000       32.000   \n",
       "Tenure          10000.000        5.013     2.892        0.000        3.000   \n",
       "Balance         10000.000    76485.889 62397.405        0.000        0.000   \n",
       "NumOfProducts   10000.000        1.530     0.582        1.000        1.000   \n",
       "HasCrCard       10000.000        0.706     0.456        0.000        0.000   \n",
       "IsActiveMember  10000.000        0.515     0.500        0.000        0.000   \n",
       "EstimatedSalary 10000.000   100090.240 57510.493       11.580    51002.110   \n",
       "Exited          10000.000        0.204     0.403        0.000        0.000   \n",
       "\n",
       "                         50%          75%          max  \n",
       "CustomerId      15690738.000 15753233.750 15815690.000  \n",
       "CreditScore          652.000      718.000      850.000  \n",
       "Age                   37.000       44.000       92.000  \n",
       "Tenure                 5.000        7.000       10.000  \n",
       "Balance            97198.540   127644.240   250898.090  \n",
       "NumOfProducts          1.000        2.000        4.000  \n",
       "HasCrCard              1.000        1.000        1.000  \n",
       "IsActiveMember         1.000        1.000        1.000  \n",
       "EstimatedSalary   100193.915   149388.247   199992.480  \n",
       "Exited                 0.000        0.000        1.000  "
      ]
     },
     "execution_count": 84,
     "metadata": {},
     "output_type": "execute_result"
    }
   ],
   "source": [
    "df.describe().T\n",
    "\n"
   ]
  },
  {
   "cell_type": "code",
   "execution_count": 85,
   "metadata": {
    "hidden": true,
    "scrolled": false
   },
   "outputs": [
    {
     "data": {
      "text/plain": [
       "<AxesSubplot:>"
      ]
     },
     "execution_count": 85,
     "metadata": {},
     "output_type": "execute_result"
    },
    {
     "data": {
      "image/png": "[encoded data removed]",
      "text/plain": [
       "<Figure size 864x432 with 1 Axes>"
      ]
     },
     "metadata": {},
     "output_type": "display_data"
    }
   ],
   "source": [
    "df.Balance.plot(kind=\"box\")"
   ]
  },
  {
   "cell_type": "code",
   "execution_count": 86,
   "metadata": {
    "hidden": true
   },
   "outputs": [],
   "source": [
    "df.drop(['CustomerId', 'Surname'], axis=1, inplace=True)"
   ]
  },
  {
   "cell_type": "code",
   "execution_count": 87,
   "metadata": {
    "cell_style": "split",
    "colab": {
     "base_uri": "https://localhost:8080/",
     "height": 297
    },
    "executionInfo": {
     "elapsed": 1052,
     "status": "ok",
     "timestamp": 1610201940310,
     "user": {
      "displayName": "Richard C",
      "photoUrl": "",
      "userId": "08040814671867660929"
     },
     "user_tz": -180
    },
    "hidden": true,
    "id": "_7vHUi5Hgldj",
    "outputId": "0018aaa8-d479-40c3-f973-161c63e7a77b"
   },
   "outputs": [
    {
     "name": "stdout",
     "output_type": "stream",
     "text": [
      "0    7963\n",
      "1    2037\n",
      "Name: Exited, dtype: int64\n"
     ]
    },
    {
     "data": {
      "image/png": "[encoded data removed]",
      "text/plain": [
       "<Figure size 864x432 with 1 Axes>"
      ]
     },
     "metadata": {},
     "output_type": "display_data"
    }
   ],
   "source": [
    "print(df.Exited.value_counts())\n",
    "sns.countplot(df[\"Exited\"]);"
   ]
  },
  {
   "cell_type": "code",
   "execution_count": 88,
   "metadata": {
    "cell_style": "split",
    "hidden": true,
    "scrolled": true
   },
   "outputs": [
    {
     "data": {
      "image/png": "[encoded data removed]",
      "text/plain": [
       "<Figure size 1080x864 with 9 Axes>"
      ]
     },
     "metadata": {},
     "output_type": "display_data"
    }
   ],
   "source": [
    "df.hist(figsize=(15, 12), bins=15);\n"
   ]
  },
  {
   "cell_type": "code",
   "execution_count": 89,
   "metadata": {
    "hidden": true,
    "scrolled": false
   },
   "outputs": [
    {
     "data": {
      "image/png": "[encoded data removed]",
      "text/plain": [
       "<Figure size 1152x864 with 4 Axes>"
      ]
     },
     "metadata": {},
     "output_type": "display_data"
    }
   ],
   "source": [
    "cat_list = [\"Gender\", \"HasCrCard\", \"IsActiveMember\", \"Geography\"]\n",
    "index = 0\n",
    "plt.figure(figsize=(16, 12))\n",
    "for i in cat_list:\n",
    "    index += 1\n",
    "    plt.subplot(2, 2, index)\n",
    "    sns.countplot(data=df, x=i, hue=\"Exited\")"
   ]
  },
  {
   "cell_type": "code",
   "execution_count": 90,
   "metadata": {
    "cell_style": "split",
    "hidden": true
   },
   "outputs": [
    {
     "data": {
      "text/plain": [
       "Age  Exited\n",
       "18   0         20\n",
       "     1          2\n",
       "19   0         26\n",
       "     1          1\n",
       "20   0         38\n",
       "               ..\n",
       "84   0          1\n",
       "     1          1\n",
       "85   0          1\n",
       "88   0          1\n",
       "92   0          2\n",
       "Name: Exited, Length: 128, dtype: int64"
      ]
     },
     "execution_count": 90,
     "metadata": {},
     "output_type": "execute_result"
    }
   ],
   "source": [
    "df.groupby(\"Age\")[\"Exited\"].value_counts()\n"
   ]
  },
  {
   "cell_type": "code",
   "execution_count": 91,
   "metadata": {
    "cell_style": "split",
    "hidden": true
   },
   "outputs": [
    {
     "data": {
      "image/png": "[encoded data removed]",
      "text/plain": [
       "<Figure size 1440x504 with 1 Axes>"
      ]
     },
     "metadata": {},
     "output_type": "display_data"
    }
   ],
   "source": [
    "plt.figure(figsize=(20, 7))\n",
    "sns.countplot(df.Age, hue=df.Exited);"
   ]
  },
  {
   "cell_type": "code",
   "execution_count": 92,
   "metadata": {
    "hidden": true
   },
   "outputs": [
    {
     "data": {
      "text/plain": [
       "count   10000.000\n",
       "mean      650.529\n",
       "std        96.653\n",
       "min       350.000\n",
       "25%       584.000\n",
       "50%       652.000\n",
       "75%       718.000\n",
       "max       850.000\n",
       "Name: CreditScore, dtype: float64"
      ]
     },
     "execution_count": 92,
     "metadata": {},
     "output_type": "execute_result"
    }
   ],
   "source": [
    "df.CreditScore.describe()"
   ]
  },
  {
   "cell_type": "code",
   "execution_count": 93,
   "metadata": {
    "hidden": true
   },
   "outputs": [],
   "source": [
    "def credit_transformer(x, y):\n",
    "    if x < 350 and y == 0:\n",
    "        return 0\n",
    "    if x < 350 and y > 0:\n",
    "        return 1\n",
    "    if x < 718 and y == 0:\n",
    "        return 2\n",
    "    if x < 718 and y > 0:\n",
    "        return 3\n",
    "    else:\n",
    "        return 4"
   ]
  },
  {
   "cell_type": "code",
   "execution_count": 94,
   "metadata": {
    "hidden": true,
    "scrolled": true
   },
   "outputs": [
    {
     "data": {
      "text/plain": [
       "[3, 2, 3, 2, 4, 3, 4, 3, 2, 3]"
      ]
     },
     "execution_count": 94,
     "metadata": {},
     "output_type": "execute_result"
    }
   ],
   "source": [
    "customer_value = [\n",
    "    credit_transformer(x, y) for x, y in zip(df.CreditScore, df.HasCrCard)\n",
    "]\n",
    "customer_value[:10]"
   ]
  },
  {
   "cell_type": "code",
   "execution_count": 95,
   "metadata": {
    "hidden": true
   },
   "outputs": [],
   "source": [
    "df.insert(10, \"customer_value\", customer_value)"
   ]
  },
  {
   "cell_type": "code",
   "execution_count": 96,
   "metadata": {
    "hidden": true
   },
   "outputs": [
    {
     "data": {
      "text/plain": [
       "RowNumber\n",
       "1        3\n",
       "2        2\n",
       "3        3\n",
       "4        2\n",
       "5        4\n",
       "        ..\n",
       "9996     4\n",
       "9997     3\n",
       "9998     2\n",
       "9999     4\n",
       "10000    4\n",
       "Name: customer_value, Length: 10000, dtype: int64"
      ]
     },
     "execution_count": 96,
     "metadata": {},
     "output_type": "execute_result"
    }
   ],
   "source": [
    "df.customer_value"
   ]
  },
  {
   "cell_type": "markdown",
   "metadata": {
    "hidden": true
   },
   "source": [
    "\n"
   ]
  },
  {
   "cell_type": "markdown",
   "metadata": {
    "hidden": true
   },
   "source": []
  },
  {
   "cell_type": "code",
   "execution_count": 97,
   "metadata": {
    "cell_style": "center",
    "colab": {
     "base_uri": "https://localhost:8080/",
     "height": 981
    },
    "executionInfo": {
     "elapsed": 5978,
     "status": "ok",
     "timestamp": 1610202268770,
     "user": {
      "displayName": "Richard C",
      "photoUrl": "",
      "userId": "08040814671867660929"
     },
     "user_tz": -180
    },
    "hidden": true,
    "id": "fNDK3HprhSU3",
    "outputId": "98fe8eba-dc36-4cc7-96ad-ff61182d12a2",
    "scrolled": false
   },
   "outputs": [
    {
     "data": {
      "text/plain": [
       "<AxesSubplot:>"
      ]
     },
     "execution_count": 97,
     "metadata": {},
     "output_type": "execute_result"
    },
    {
     "data": {
      "image/png": "[encoded data removed]",
      "text/plain": [
       "<Figure size 1152x864 with 2 Axes>"
      ]
     },
     "metadata": {},
     "output_type": "display_data"
    }
   ],
   "source": [
    "plt.figure(figsize=(16, 12))\n",
    "sns.heatmap(df.corr(), annot=True, cmap='viridis')"
   ]
  },
  {
   "cell_type": "code",
   "execution_count": 98,
   "metadata": {
    "cell_style": "center",
    "colab": {
     "base_uri": "https://localhost:8080/",
     "height": 391
    },
    "executionInfo": {
     "elapsed": 1405,
     "status": "ok",
     "timestamp": 1610203065835,
     "user": {
      "displayName": "Richard C",
      "photoUrl": "",
      "userId": "08040814671867660929"
     },
     "user_tz": -180
    },
    "hidden": true,
    "id": "IasR3c8ajeC0",
    "outputId": "4742bedb-e6bc-4967-f1cd-c36f7610f33e"
   },
   "outputs": [
    {
     "data": {
      "text/plain": [
       "<AxesSubplot:>"
      ]
     },
     "execution_count": 98,
     "metadata": {},
     "output_type": "execute_result"
    },
    {
     "data": {
      "image/png": "[encoded data removed]",
      "text/plain": [
       "<Figure size 864x432 with 1 Axes>"
      ]
     },
     "metadata": {},
     "output_type": "display_data"
    }
   ],
   "source": [
    "df.corr()['Exited'][:-1].sort_values().plot.bar()"
   ]
  },
  {
   "cell_type": "code",
   "execution_count": 99,
   "metadata": {
    "hidden": true
   },
   "outputs": [
    {
     "data": {
      "text/html": [
       "<div>\n",
       "<style scoped>\n",
       "    .dataframe tbody tr th:only-of-type {\n",
       "        vertical-align: middle;\n",
       "    }\n",
       "\n",
       "    .dataframe tbody tr th {\n",
       "        vertical-align: top;\n",
       "    }\n",
       "\n",
       "    .dataframe thead th {\n",
       "        text-align: right;\n",
       "    }\n",
       "</style>\n",
       "<table border=\"1\" class=\"dataframe\">\n",
       "  <thead>\n",
       "    <tr style=\"text-align: right;\">\n",
       "      <th></th>\n",
       "      <th>CreditScore</th>\n",
       "      <th>Age</th>\n",
       "      <th>Tenure</th>\n",
       "      <th>Balance</th>\n",
       "      <th>NumOfProducts</th>\n",
       "      <th>HasCrCard</th>\n",
       "      <th>IsActiveMember</th>\n",
       "      <th>EstimatedSalary</th>\n",
       "      <th>customer_value</th>\n",
       "      <th>Exited</th>\n",
       "      <th>Geography_Germany</th>\n",
       "      <th>Geography_Spain</th>\n",
       "      <th>Gender_Male</th>\n",
       "    </tr>\n",
       "    <tr>\n",
       "      <th>RowNumber</th>\n",
       "      <th></th>\n",
       "      <th></th>\n",
       "      <th></th>\n",
       "      <th></th>\n",
       "      <th></th>\n",
       "      <th></th>\n",
       "      <th></th>\n",
       "      <th></th>\n",
       "      <th></th>\n",
       "      <th></th>\n",
       "      <th></th>\n",
       "      <th></th>\n",
       "      <th></th>\n",
       "    </tr>\n",
       "  </thead>\n",
       "  <tbody>\n",
       "    <tr>\n",
       "      <th>1</th>\n",
       "      <td>619</td>\n",
       "      <td>42</td>\n",
       "      <td>2</td>\n",
       "      <td>0.000</td>\n",
       "      <td>1</td>\n",
       "      <td>1</td>\n",
       "      <td>1</td>\n",
       "      <td>101348.880</td>\n",
       "      <td>3</td>\n",
       "      <td>1</td>\n",
       "      <td>0</td>\n",
       "      <td>0</td>\n",
       "      <td>0</td>\n",
       "    </tr>\n",
       "    <tr>\n",
       "      <th>2</th>\n",
       "      <td>608</td>\n",
       "      <td>41</td>\n",
       "      <td>1</td>\n",
       "      <td>83807.860</td>\n",
       "      <td>1</td>\n",
       "      <td>0</td>\n",
       "      <td>1</td>\n",
       "      <td>112542.580</td>\n",
       "      <td>2</td>\n",
       "      <td>0</td>\n",
       "      <td>0</td>\n",
       "      <td>1</td>\n",
       "      <td>0</td>\n",
       "    </tr>\n",
       "    <tr>\n",
       "      <th>3</th>\n",
       "      <td>502</td>\n",
       "      <td>42</td>\n",
       "      <td>8</td>\n",
       "      <td>159660.800</td>\n",
       "      <td>3</td>\n",
       "      <td>1</td>\n",
       "      <td>0</td>\n",
       "      <td>113931.570</td>\n",
       "      <td>3</td>\n",
       "      <td>1</td>\n",
       "      <td>0</td>\n",
       "      <td>0</td>\n",
       "      <td>0</td>\n",
       "    </tr>\n",
       "    <tr>\n",
       "      <th>4</th>\n",
       "      <td>699</td>\n",
       "      <td>39</td>\n",
       "      <td>1</td>\n",
       "      <td>0.000</td>\n",
       "      <td>2</td>\n",
       "      <td>0</td>\n",
       "      <td>0</td>\n",
       "      <td>93826.630</td>\n",
       "      <td>2</td>\n",
       "      <td>0</td>\n",
       "      <td>0</td>\n",
       "      <td>0</td>\n",
       "      <td>0</td>\n",
       "    </tr>\n",
       "    <tr>\n",
       "      <th>5</th>\n",
       "      <td>850</td>\n",
       "      <td>43</td>\n",
       "      <td>2</td>\n",
       "      <td>125510.820</td>\n",
       "      <td>1</td>\n",
       "      <td>1</td>\n",
       "      <td>1</td>\n",
       "      <td>79084.100</td>\n",
       "      <td>4</td>\n",
       "      <td>0</td>\n",
       "      <td>0</td>\n",
       "      <td>1</td>\n",
       "      <td>0</td>\n",
       "    </tr>\n",
       "  </tbody>\n",
       "</table>\n",
       "</div>"
      ],
      "text/plain": [
       "           CreditScore  Age  Tenure    Balance  NumOfProducts  HasCrCard  \\\n",
       "RowNumber                                                                  \n",
       "1                  619   42       2      0.000              1          1   \n",
       "2                  608   41       1  83807.860              1          0   \n",
       "3                  502   42       8 159660.800              3          1   \n",
       "4                  699   39       1      0.000              2          0   \n",
       "5                  850   43       2 125510.820              1          1   \n",
       "\n",
       "           IsActiveMember  EstimatedSalary  customer_value  Exited  \\\n",
       "RowNumber                                                            \n",
       "1                       1       101348.880               3       1   \n",
       "2                       1       112542.580               2       0   \n",
       "3                       0       113931.570               3       1   \n",
       "4                       0        93826.630               2       0   \n",
       "5                       1        79084.100               4       0   \n",
       "\n",
       "           Geography_Germany  Geography_Spain  Gender_Male  \n",
       "RowNumber                                                   \n",
       "1                          0                0            0  \n",
       "2                          0                1            0  \n",
       "3                          0                0            0  \n",
       "4                          0                0            0  \n",
       "5                          0                1            0  "
      ]
     },
     "execution_count": 99,
     "metadata": {},
     "output_type": "execute_result"
    }
   ],
   "source": [
    "df = pd.get_dummies(df, drop_first=True)\n",
    "df.head()"
   ]
  },
  {
   "cell_type": "markdown",
   "metadata": {
    "heading_collapsed": true
   },
   "source": [
    "## Preprocessing of Data"
   ]
  },
  {
   "cell_type": "code",
   "execution_count": 100,
   "metadata": {
    "executionInfo": {
     "elapsed": 764,
     "status": "ok",
     "timestamp": 1610203310512,
     "user": {
      "displayName": "Richard C",
      "photoUrl": "",
      "userId": "08040814671867660929"
     },
     "user_tz": -180
    },
    "hidden": true,
    "id": "DjY-ZSPWka7D"
   },
   "outputs": [],
   "source": [
    "from sklearn.model_selection import train_test_split\n",
    "from sklearn.preprocessing import MinMaxScaler"
   ]
  },
  {
   "cell_type": "code",
   "execution_count": 101,
   "metadata": {
    "cell_style": "center",
    "executionInfo": {
     "elapsed": 1126,
     "status": "ok",
     "timestamp": 1610203246314,
     "user": {
      "displayName": "Richard C",
      "photoUrl": "",
      "userId": "08040814671867660929"
     },
     "user_tz": -180
    },
    "hidden": true,
    "id": "kjyTH753lq7M"
   },
   "outputs": [],
   "source": [
    "X = df.drop('Exited', axis=1)\n",
    "y = df['Exited'].values\n",
    "\n",
    "X_train, X_test, y_train, y_test = train_test_split(X,\n",
    "                                                    y,\n",
    "                                                    stratify=y,\n",
    "                                                    test_size=0.1,\n",
    "                                                    random_state=42)\n"
   ]
  },
  {
   "cell_type": "code",
   "execution_count": 102,
   "metadata": {
    "cell_style": "split",
    "hidden": true
   },
   "outputs": [],
   "source": [
    "scaler = MinMaxScaler()\n"
   ]
  },
  {
   "cell_type": "code",
   "execution_count": 103,
   "metadata": {
    "cell_style": "split",
    "executionInfo": {
     "elapsed": 696,
     "status": "ok",
     "timestamp": 1610203508023,
     "user": {
      "displayName": "Richard C",
      "photoUrl": "",
      "userId": "08040814671867660929"
     },
     "user_tz": -180
    },
    "hidden": true,
    "id": "Fgy3D9SBmWcq"
   },
   "outputs": [],
   "source": [
    "X_train = scaler.fit_transform(X_train)\n",
    "X_test = scaler.transform(X_test)"
   ]
  },
  {
   "cell_type": "markdown",
   "metadata": {
    "id": "Ha9hDt_AoGaE"
   },
   "source": [
    "## Modelling & Model Performance"
   ]
  },
  {
   "cell_type": "markdown",
   "metadata": {},
   "source": [
    "<span class=\"mark\">How many hidden layers should I use? : http://www.faqs.org/faqs/ai-faq/neural-nets/part3/section-9.html (mirror: http://francky.me/aifaq/FAQ-comp.ai.neural-net.pdf)\n",
    "How many hidden units should I use? : http://www.faqs.org/faqs/ai-faq/neural-nets/part3/section-10.html (mirror: http://francky.me/aifaq/FAQ-comp.ai.neural-net.pdf)\n",
    "What is genetic algorithm? : https://www.researchgate.net/post/What_is_genetic_algorithm1\n",
    "Genetic algorithm + neural networks: http://francky.me/doc/mrf2011-HEC-ISIR-ENS_en.pdf (chapter 2.2)</span>"
   ]
  },
  {
   "cell_type": "markdown",
   "metadata": {
    "heading_collapsed": true
   },
   "source": [
    "### without class_weigth"
   ]
  },
  {
   "cell_type": "code",
   "execution_count": 30,
   "metadata": {
    "cell_style": "split",
    "hidden": true
   },
   "outputs": [],
   "source": [
    "model = Sequential()\n",
    "\n",
    "model.add(Dense(16, activation=\"relu\"))\n",
    "model.add(Dense(8, activation=\"relu\"))\n",
    "model.add(Dense(1, activation=\"sigmoid\"))\n",
    "\n",
    "opt = Adam(lr=0.001)\n",
    "model.compile(optimizer=opt, \n",
    "              loss=\"binary_crossentropy\",\n",
    "              metrics=[\"Recall\"])"
   ]
  },
  {
   "cell_type": "markdown",
   "metadata": {
    "cell_style": "split",
    "hidden": true
   },
   "source": [
    "<span class=\"burk\">The patience is often set somewhere between 10 and 100 (10 or 20 is more common), but it really depends on your dataset and network.</span>"
   ]
  },
  {
   "cell_type": "code",
   "execution_count": 31,
   "metadata": {
    "cell_style": "split",
    "hidden": true
   },
   "outputs": [],
   "source": [
    "early_stop = EarlyStopping(monitor=\"val_loss\",\n",
    "                           mode=\"auto\",\n",
    "                           verbose=1,\n",
    "                           patience=15)"
   ]
  },
  {
   "cell_type": "code",
   "execution_count": 32,
   "metadata": {
    "cell_style": "center",
    "hidden": true,
    "scrolled": true
   },
   "outputs": [
    {
     "name": "stdout",
     "output_type": "stream",
     "text": [
      "Epoch 1/200\n",
      "64/64 [==============================] - 0s 4ms/step - loss: 0.5855 - recall: 0.0642 - val_loss: 0.5063 - val_recall: 0.0000e+00\n",
      "Epoch 2/200\n",
      "64/64 [==============================] - 0s 779us/step - loss: 0.4998 - recall: 0.0000e+00 - val_loss: 0.4814 - val_recall: 0.0000e+00\n",
      "Epoch 3/200\n",
      "64/64 [==============================] - 0s 779us/step - loss: 0.4842 - recall: 0.0000e+00 - val_loss: 0.4675 - val_recall: 0.0000e+00\n",
      "Epoch 4/200\n",
      "64/64 [==============================] - 0s 810us/step - loss: 0.4749 - recall: 0.0000e+00 - val_loss: 0.4588 - val_recall: 0.0000e+00\n",
      "Epoch 5/200\n",
      "64/64 [==============================] - 0s 757us/step - loss: 0.4686 - recall: 0.0000e+00 - val_loss: 0.4518 - val_recall: 0.0000e+00\n",
      "Epoch 6/200\n",
      "64/64 [==============================] - 0s 794us/step - loss: 0.4630 - recall: 6.0533e-04 - val_loss: 0.4454 - val_recall: 0.0000e+00\n",
      "Epoch 7/200\n",
      "64/64 [==============================] - 0s 841us/step - loss: 0.4582 - recall: 0.0121 - val_loss: 0.4406 - val_recall: 0.0608\n",
      "Epoch 8/200\n",
      "64/64 [==============================] - 0s 748us/step - loss: 0.4534 - recall: 0.0400 - val_loss: 0.4339 - val_recall: 0.0718\n",
      "Epoch 9/200\n",
      "64/64 [==============================] - 0s 748us/step - loss: 0.4490 - recall: 0.0666 - val_loss: 0.4292 - val_recall: 0.0939\n",
      "Epoch 10/200\n",
      "64/64 [==============================] - 0s 748us/step - loss: 0.4438 - recall: 0.0962 - val_loss: 0.4235 - val_recall: 0.1436\n",
      "Epoch 11/200\n",
      "64/64 [==============================] - 0s 748us/step - loss: 0.4390 - recall: 0.1253 - val_loss: 0.4182 - val_recall: 0.1713\n",
      "Epoch 12/200\n",
      "64/64 [==============================] - 0s 748us/step - loss: 0.4346 - recall: 0.1513 - val_loss: 0.4128 - val_recall: 0.2265\n",
      "Epoch 13/200\n",
      "64/64 [==============================] - 0s 764us/step - loss: 0.4301 - recall: 0.1640 - val_loss: 0.4060 - val_recall: 0.2431\n",
      "Epoch 14/200\n",
      "64/64 [==============================] - 0s 788us/step - loss: 0.4250 - recall: 0.1852 - val_loss: 0.3999 - val_recall: 0.2762\n",
      "Epoch 15/200\n",
      "64/64 [==============================] - ETA: 0s - loss: 0.4791 - recall: 0.10 - 0s 748us/step - loss: 0.4205 - recall: 0.2064 - val_loss: 0.3929 - val_recall: 0.2928\n",
      "Epoch 16/200\n",
      "64/64 [==============================] - 0s 764us/step - loss: 0.4157 - recall: 0.2331 - val_loss: 0.3876 - val_recall: 0.3260\n",
      "Epoch 17/200\n",
      "64/64 [==============================] - 0s 759us/step - loss: 0.4104 - recall: 0.2379 - val_loss: 0.3804 - val_recall: 0.3094\n",
      "Epoch 18/200\n",
      "64/64 [==============================] - 0s 810us/step - loss: 0.4049 - recall: 0.2694 - val_loss: 0.3739 - val_recall: 0.2983\n",
      "Epoch 19/200\n",
      "64/64 [==============================] - 0s 748us/step - loss: 0.3994 - recall: 0.2791 - val_loss: 0.3678 - val_recall: 0.2983\n",
      "Epoch 20/200\n",
      "64/64 [==============================] - 0s 779us/step - loss: 0.3946 - recall: 0.2900 - val_loss: 0.3610 - val_recall: 0.3646\n",
      "Epoch 21/200\n",
      "64/64 [==============================] - 0s 810us/step - loss: 0.3891 - recall: 0.3136 - val_loss: 0.3545 - val_recall: 0.3812\n",
      "Epoch 22/200\n",
      "64/64 [==============================] - 0s 748us/step - loss: 0.3839 - recall: 0.3269 - val_loss: 0.3491 - val_recall: 0.4199\n",
      "Epoch 23/200\n",
      "64/64 [==============================] - 0s 805us/step - loss: 0.3796 - recall: 0.3402 - val_loss: 0.3443 - val_recall: 0.4033\n",
      "Epoch 24/200\n",
      "64/64 [==============================] - 0s 732us/step - loss: 0.3763 - recall: 0.3499 - val_loss: 0.3396 - val_recall: 0.3923\n",
      "Epoch 25/200\n",
      "64/64 [==============================] - 0s 841us/step - loss: 0.3727 - recall: 0.3553 - val_loss: 0.3392 - val_recall: 0.5249\n",
      "Epoch 26/200\n",
      "64/64 [==============================] - 0s 779us/step - loss: 0.3695 - recall: 0.3783 - val_loss: 0.3336 - val_recall: 0.4530\n",
      "Epoch 27/200\n",
      "64/64 [==============================] - 0s 782us/step - loss: 0.3665 - recall: 0.3765 - val_loss: 0.3277 - val_recall: 0.4530\n",
      "Epoch 28/200\n",
      "64/64 [==============================] - 0s 748us/step - loss: 0.3642 - recall: 0.3886 - val_loss: 0.3259 - val_recall: 0.4475\n",
      "Epoch 29/200\n",
      "64/64 [==============================] - 0s 779us/step - loss: 0.3626 - recall: 0.3844 - val_loss: 0.3251 - val_recall: 0.5249\n",
      "Epoch 30/200\n",
      "64/64 [==============================] - 0s 732us/step - loss: 0.3614 - recall: 0.4056 - val_loss: 0.3296 - val_recall: 0.5746\n",
      "Epoch 31/200\n",
      "64/64 [==============================] - 0s 795us/step - loss: 0.3592 - recall: 0.4031 - val_loss: 0.3204 - val_recall: 0.5083\n",
      "Epoch 32/200\n",
      "64/64 [==============================] - 0s 748us/step - loss: 0.3581 - recall: 0.4068 - val_loss: 0.3190 - val_recall: 0.5138\n",
      "Epoch 33/200\n",
      "64/64 [==============================] - 0s 764us/step - loss: 0.3564 - recall: 0.4128 - val_loss: 0.3190 - val_recall: 0.5414\n",
      "Epoch 34/200\n",
      "64/64 [==============================] - 0s 748us/step - loss: 0.3561 - recall: 0.4159 - val_loss: 0.3169 - val_recall: 0.5470\n",
      "Epoch 35/200\n",
      "64/64 [==============================] - 0s 732us/step - loss: 0.3550 - recall: 0.4231 - val_loss: 0.3157 - val_recall: 0.5249\n",
      "Epoch 36/200\n",
      "64/64 [==============================] - 0s 810us/step - loss: 0.3550 - recall: 0.4268 - val_loss: 0.3153 - val_recall: 0.5083\n",
      "Epoch 37/200\n",
      "64/64 [==============================] - 0s 764us/step - loss: 0.3542 - recall: 0.4183 - val_loss: 0.3154 - val_recall: 0.4862\n",
      "Epoch 38/200\n",
      "64/64 [==============================] - 0s 826us/step - loss: 0.3529 - recall: 0.4183 - val_loss: 0.3122 - val_recall: 0.5304\n",
      "Epoch 39/200\n",
      "64/64 [==============================] - 0s 732us/step - loss: 0.3522 - recall: 0.4346 - val_loss: 0.3135 - val_recall: 0.4751\n",
      "Epoch 40/200\n",
      "64/64 [==============================] - 0s 732us/step - loss: 0.3521 - recall: 0.4243 - val_loss: 0.3121 - val_recall: 0.5193\n",
      "Epoch 41/200\n",
      "64/64 [==============================] - 0s 764us/step - loss: 0.3515 - recall: 0.4243 - val_loss: 0.3131 - val_recall: 0.5580\n",
      "Epoch 42/200\n",
      "64/64 [==============================] - 0s 717us/step - loss: 0.3511 - recall: 0.4364 - val_loss: 0.3095 - val_recall: 0.5249\n",
      "Epoch 43/200\n",
      "64/64 [==============================] - 0s 779us/step - loss: 0.3506 - recall: 0.4243 - val_loss: 0.3134 - val_recall: 0.5635\n",
      "Epoch 44/200\n",
      "64/64 [==============================] - 0s 779us/step - loss: 0.3502 - recall: 0.4377 - val_loss: 0.3109 - val_recall: 0.5083\n",
      "Epoch 45/200\n",
      "64/64 [==============================] - 0s 779us/step - loss: 0.3497 - recall: 0.4219 - val_loss: 0.3114 - val_recall: 0.5525\n",
      "Epoch 46/200\n",
      "64/64 [==============================] - 0s 748us/step - loss: 0.3500 - recall: 0.4316 - val_loss: 0.3123 - val_recall: 0.5856\n",
      "Epoch 47/200\n",
      "64/64 [==============================] - 0s 764us/step - loss: 0.3493 - recall: 0.4364 - val_loss: 0.3087 - val_recall: 0.5414\n",
      "Epoch 48/200\n",
      "64/64 [==============================] - 0s 779us/step - loss: 0.3492 - recall: 0.4340 - val_loss: 0.3086 - val_recall: 0.5304\n",
      "Epoch 49/200\n",
      "64/64 [==============================] - 0s 795us/step - loss: 0.3484 - recall: 0.4455 - val_loss: 0.3077 - val_recall: 0.5304\n",
      "Epoch 50/200\n",
      "64/64 [==============================] - 0s 779us/step - loss: 0.3486 - recall: 0.4340 - val_loss: 0.3094 - val_recall: 0.5580\n",
      "Epoch 51/200\n",
      "64/64 [==============================] - 0s 748us/step - loss: 0.3481 - recall: 0.4377 - val_loss: 0.3107 - val_recall: 0.5580\n",
      "Epoch 52/200\n",
      "64/64 [==============================] - 0s 790us/step - loss: 0.3481 - recall: 0.4364 - val_loss: 0.3099 - val_recall: 0.5525\n",
      "Epoch 53/200\n",
      "64/64 [==============================] - 0s 748us/step - loss: 0.3479 - recall: 0.4395 - val_loss: 0.3100 - val_recall: 0.5691\n",
      "Epoch 54/200\n",
      "64/64 [==============================] - 0s 791us/step - loss: 0.3486 - recall: 0.4395 - val_loss: 0.3111 - val_recall: 0.5580\n",
      "Epoch 55/200\n",
      "64/64 [==============================] - 0s 748us/step - loss: 0.3474 - recall: 0.4425 - val_loss: 0.3061 - val_recall: 0.5138\n",
      "Epoch 56/200\n",
      "64/64 [==============================] - 0s 779us/step - loss: 0.3473 - recall: 0.4413 - val_loss: 0.3075 - val_recall: 0.5470\n",
      "Epoch 57/200\n",
      "64/64 [==============================] - 0s 764us/step - loss: 0.3467 - recall: 0.4419 - val_loss: 0.3065 - val_recall: 0.5470\n",
      "Epoch 58/200\n",
      "64/64 [==============================] - 0s 779us/step - loss: 0.3470 - recall: 0.4485 - val_loss: 0.3070 - val_recall: 0.5414\n"
     ]
    },
    {
     "name": "stdout",
     "output_type": "stream",
     "text": [
      "Epoch 59/200\n",
      "64/64 [==============================] - 0s 748us/step - loss: 0.3463 - recall: 0.4461 - val_loss: 0.3074 - val_recall: 0.5359\n",
      "Epoch 60/200\n",
      "64/64 [==============================] - 0s 779us/step - loss: 0.3467 - recall: 0.4389 - val_loss: 0.3064 - val_recall: 0.5470\n",
      "Epoch 61/200\n",
      "64/64 [==============================] - 0s 779us/step - loss: 0.3463 - recall: 0.4510 - val_loss: 0.3066 - val_recall: 0.5525\n",
      "Epoch 62/200\n",
      "64/64 [==============================] - 0s 795us/step - loss: 0.3467 - recall: 0.4455 - val_loss: 0.3074 - val_recall: 0.5470\n",
      "Epoch 63/200\n",
      "64/64 [==============================] - 0s 779us/step - loss: 0.3456 - recall: 0.4528 - val_loss: 0.3085 - val_recall: 0.5470\n",
      "Epoch 64/200\n",
      "64/64 [==============================] - 0s 888us/step - loss: 0.3456 - recall: 0.4425 - val_loss: 0.3084 - val_recall: 0.5580\n",
      "Epoch 65/200\n",
      "64/64 [==============================] - 0s 779us/step - loss: 0.3455 - recall: 0.4540 - val_loss: 0.3062 - val_recall: 0.5193\n",
      "Epoch 66/200\n",
      "64/64 [==============================] - 0s 779us/step - loss: 0.3453 - recall: 0.4449 - val_loss: 0.3103 - val_recall: 0.5746\n",
      "Epoch 67/200\n",
      "64/64 [==============================] - 0s 732us/step - loss: 0.3459 - recall: 0.4504 - val_loss: 0.3061 - val_recall: 0.5138\n",
      "Epoch 68/200\n",
      "64/64 [==============================] - 0s 810us/step - loss: 0.3455 - recall: 0.4383 - val_loss: 0.3054 - val_recall: 0.5083\n",
      "Epoch 69/200\n",
      "64/64 [==============================] - 0s 764us/step - loss: 0.3446 - recall: 0.4528 - val_loss: 0.3080 - val_recall: 0.5028\n",
      "Epoch 70/200\n",
      "64/64 [==============================] - 0s 826us/step - loss: 0.3452 - recall: 0.4546 - val_loss: 0.3086 - val_recall: 0.5359\n",
      "Epoch 71/200\n",
      "64/64 [==============================] - 0s 748us/step - loss: 0.3459 - recall: 0.4437 - val_loss: 0.3058 - val_recall: 0.5193\n",
      "Epoch 72/200\n",
      "64/64 [==============================] - 0s 810us/step - loss: 0.3446 - recall: 0.4425 - val_loss: 0.3058 - val_recall: 0.5138\n",
      "Epoch 73/200\n",
      "64/64 [==============================] - 0s 795us/step - loss: 0.3452 - recall: 0.4455 - val_loss: 0.3053 - val_recall: 0.5580\n",
      "Epoch 74/200\n",
      "64/64 [==============================] - 0s 748us/step - loss: 0.3445 - recall: 0.4479 - val_loss: 0.3052 - val_recall: 0.5414\n",
      "Epoch 75/200\n",
      "64/64 [==============================] - 0s 764us/step - loss: 0.3442 - recall: 0.4437 - val_loss: 0.3106 - val_recall: 0.6022\n",
      "Epoch 76/200\n",
      "64/64 [==============================] - 0s 779us/step - loss: 0.3440 - recall: 0.4546 - val_loss: 0.3050 - val_recall: 0.5414\n",
      "Epoch 77/200\n",
      "64/64 [==============================] - 0s 795us/step - loss: 0.3442 - recall: 0.4467 - val_loss: 0.3071 - val_recall: 0.5304\n",
      "Epoch 78/200\n",
      "64/64 [==============================] - 0s 732us/step - loss: 0.3441 - recall: 0.4498 - val_loss: 0.3084 - val_recall: 0.5525\n",
      "Epoch 79/200\n",
      "64/64 [==============================] - 0s 795us/step - loss: 0.3435 - recall: 0.4485 - val_loss: 0.3079 - val_recall: 0.4917\n",
      "Epoch 80/200\n",
      "64/64 [==============================] - 0s 795us/step - loss: 0.3439 - recall: 0.4443 - val_loss: 0.3073 - val_recall: 0.5580\n",
      "Epoch 81/200\n",
      "64/64 [==============================] - 0s 748us/step - loss: 0.3444 - recall: 0.4607 - val_loss: 0.3065 - val_recall: 0.5193\n",
      "Epoch 82/200\n",
      "64/64 [==============================] - 0s 764us/step - loss: 0.3437 - recall: 0.4540 - val_loss: 0.3057 - val_recall: 0.5525\n",
      "Epoch 83/200\n",
      "64/64 [==============================] - 0s 834us/step - loss: 0.3431 - recall: 0.4504 - val_loss: 0.3039 - val_recall: 0.5249\n",
      "Epoch 84/200\n",
      "64/64 [==============================] - 0s 857us/step - loss: 0.3439 - recall: 0.4437 - val_loss: 0.3058 - val_recall: 0.5249\n",
      "Epoch 85/200\n",
      "64/64 [==============================] - 0s 841us/step - loss: 0.3434 - recall: 0.4582 - val_loss: 0.3066 - val_recall: 0.4696\n",
      "Epoch 86/200\n",
      "64/64 [==============================] - 0s 732us/step - loss: 0.3428 - recall: 0.4510 - val_loss: 0.3054 - val_recall: 0.5525\n",
      "Epoch 87/200\n",
      "64/64 [==============================] - 0s 764us/step - loss: 0.3430 - recall: 0.4564 - val_loss: 0.3031 - val_recall: 0.5359\n",
      "Epoch 88/200\n",
      "64/64 [==============================] - 0s 795us/step - loss: 0.3436 - recall: 0.4643 - val_loss: 0.3056 - val_recall: 0.4917\n",
      "Epoch 89/200\n",
      "64/64 [==============================] - 0s 764us/step - loss: 0.3428 - recall: 0.4546 - val_loss: 0.3057 - val_recall: 0.5359\n",
      "Epoch 90/200\n",
      "64/64 [==============================] - 0s 726us/step - loss: 0.3428 - recall: 0.4528 - val_loss: 0.3059 - val_recall: 0.5138\n",
      "Epoch 91/200\n",
      "64/64 [==============================] - 0s 795us/step - loss: 0.3428 - recall: 0.4649 - val_loss: 0.3045 - val_recall: 0.5359\n",
      "Epoch 92/200\n",
      "64/64 [==============================] - 0s 795us/step - loss: 0.3425 - recall: 0.4449 - val_loss: 0.3037 - val_recall: 0.5525\n",
      "Epoch 93/200\n",
      "64/64 [==============================] - 0s 748us/step - loss: 0.3422 - recall: 0.4534 - val_loss: 0.3046 - val_recall: 0.5414\n",
      "Epoch 94/200\n",
      "64/64 [==============================] - 0s 717us/step - loss: 0.3423 - recall: 0.4522 - val_loss: 0.3061 - val_recall: 0.5359\n",
      "Epoch 95/200\n",
      "64/64 [==============================] - 0s 748us/step - loss: 0.3423 - recall: 0.4588 - val_loss: 0.3042 - val_recall: 0.5083\n",
      "Epoch 96/200\n",
      "64/64 [==============================] - 0s 1ms/step - loss: 0.3421 - recall: 0.4467 - val_loss: 0.3039 - val_recall: 0.5525\n",
      "Epoch 97/200\n",
      "64/64 [==============================] - 0s 841us/step - loss: 0.3420 - recall: 0.4540 - val_loss: 0.3042 - val_recall: 0.5304\n",
      "Epoch 98/200\n",
      "64/64 [==============================] - 0s 826us/step - loss: 0.3413 - recall: 0.4600 - val_loss: 0.3084 - val_recall: 0.5635\n",
      "Epoch 99/200\n",
      "64/64 [==============================] - 0s 780us/step - loss: 0.3421 - recall: 0.4655 - val_loss: 0.3047 - val_recall: 0.5359\n",
      "Epoch 100/200\n",
      "64/64 [==============================] - 0s 779us/step - loss: 0.3425 - recall: 0.4522 - val_loss: 0.3080 - val_recall: 0.5912\n",
      "Epoch 101/200\n",
      "64/64 [==============================] - 0s 748us/step - loss: 0.3419 - recall: 0.4607 - val_loss: 0.3046 - val_recall: 0.5635\n",
      "Epoch 102/200\n",
      "64/64 [==============================] - 0s 795us/step - loss: 0.3419 - recall: 0.4570 - val_loss: 0.3057 - val_recall: 0.5525\n",
      "Epoch 00102: early stopping\n"
     ]
    },
    {
     "data": {
      "text/plain": [
       "<tensorflow.python.keras.callbacks.History at 0x2304c2a72e0>"
      ]
     },
     "execution_count": 32,
     "metadata": {},
     "output_type": "execute_result"
    }
   ],
   "source": [
    "model.fit(x=X_train,\n",
    "          y=y_train,\n",
    "          validation_split=.1,\n",
    "          batch_size=128,\n",
    "          epochs=200,\n",
    "          verbose=1,\n",
    "          callbacks=[early_stop])"
   ]
  },
  {
   "cell_type": "code",
   "execution_count": 33,
   "metadata": {
    "cell_style": "center",
    "hidden": true,
    "scrolled": false
   },
   "outputs": [
    {
     "name": "stdout",
     "output_type": "stream",
     "text": [
      "Model: \"sequential\"\n",
      "_________________________________________________________________\n",
      "Layer (type)                 Output Shape              Param #   \n",
      "=================================================================\n",
      "dense (Dense)                (None, 16)                208       \n",
      "_________________________________________________________________\n",
      "dense_1 (Dense)              (None, 8)                 136       \n",
      "_________________________________________________________________\n",
      "dense_2 (Dense)              (None, 1)                 9         \n",
      "=================================================================\n",
      "Total params: 353\n",
      "Trainable params: 353\n",
      "Non-trainable params: 0\n",
      "_________________________________________________________________\n"
     ]
    }
   ],
   "source": [
    "model.summary()"
   ]
  },
  {
   "cell_type": "code",
   "execution_count": 34,
   "metadata": {
    "cell_style": "split",
    "executionInfo": {
     "elapsed": 809,
     "status": "ok",
     "timestamp": 1610205470123,
     "user": {
      "displayName": "Richard C",
      "photoUrl": "",
      "userId": "08040814671867660929"
     },
     "user_tz": -180
    },
    "hidden": true,
    "id": "vQIbjGQduQpQ"
   },
   "outputs": [
    {
     "data": {
      "text/plain": [
       "<AxesSubplot:>"
      ]
     },
     "execution_count": 34,
     "metadata": {},
     "output_type": "execute_result"
    },
    {
     "data": {
      "image/png": "[encoded data removed]",
      "text/plain": [
       "<Figure size 864x432 with 1 Axes>"
      ]
     },
     "metadata": {},
     "output_type": "display_data"
    }
   ],
   "source": [
    "loss_df = pd.DataFrame(model.history.history)\n",
    "loss_df.plot()"
   ]
  },
  {
   "cell_type": "code",
   "execution_count": 35,
   "metadata": {
    "cell_style": "split",
    "hidden": true,
    "scrolled": true,
    "tags": []
   },
   "outputs": [
    {
     "name": "stdout",
     "output_type": "stream",
     "text": [
      "WARNING:tensorflow:From <ipython-input-35-6b40b5b62bd5>:1: Sequential.predict_classes (from tensorflow.python.keras.engine.sequential) is deprecated and will be removed after 2021-01-01.\n",
      "Instructions for updating:\n",
      "Please use instead:* `np.argmax(model.predict(x), axis=-1)`,   if your model does multi-class classification   (e.g. if it uses a `softmax` last-layer activation).* `(model.predict(x) > 0.5).astype(\"int32\")`,   if your model does binary classification   (e.g. if it uses a `sigmoid` last-layer activation).\n",
      "[[765  31]\n",
      " [109  95]]\n",
      "              precision    recall  f1-score   support\n",
      "\n",
      "           0       0.88      0.96      0.92       796\n",
      "           1       0.75      0.47      0.58       204\n",
      "\n",
      "    accuracy                           0.86      1000\n",
      "   macro avg       0.81      0.71      0.75      1000\n",
      "weighted avg       0.85      0.86      0.85      1000\n",
      "\n"
     ]
    }
   ],
   "source": [
    "y_pred = model.predict_classes(X_test)\n",
    "print(confusion_matrix(y_test, y_pred))\n",
    "print(classification_report(y_test, y_pred))"
   ]
  },
  {
   "cell_type": "markdown",
   "metadata": {
    "heading_collapsed": true,
    "tags": []
   },
   "source": [
    "### ROC (Receiver Operating Curve) and AUC (Area Under Curve) for model"
   ]
  },
  {
   "cell_type": "code",
   "execution_count": 36,
   "metadata": {
    "cell_style": "split",
    "hidden": true
   },
   "outputs": [
    {
     "name": "stdout",
     "output_type": "stream",
     "text": [
      "WARNING:tensorflow:From <ipython-input-36-1cfd516a6349>:1: Sequential.predict_proba (from tensorflow.python.keras.engine.sequential) is deprecated and will be removed after 2021-01-01.\n",
      "Instructions for updating:\n",
      "Please use `model.predict()` instead.\n"
     ]
    },
    {
     "data": {
      "image/png": "[encoded data removed]",
      "text/plain": [
       "<Figure size 864x432 with 1 Axes>"
      ]
     },
     "metadata": {},
     "output_type": "display_data"
    }
   ],
   "source": [
    "y_pred_proba = model.predict_proba(X_test)\n",
    "precisions, recalls, thresholds = precision_recall_curve(y_test, y_pred_proba)\n",
    "plt.plot(recalls, precisions, label='ANN')\n",
    "plt.xlabel('recalls')\n",
    "plt.ylabel('precisions')\n",
    "plt.title('Precision-Recall curve')\n",
    "plt.show()"
   ]
  },
  {
   "cell_type": "code",
   "execution_count": 37,
   "metadata": {
    "cell_style": "split",
    "hidden": true,
    "scrolled": true
   },
   "outputs": [
    {
     "data": {
      "text/plain": [
       "0.6698191000811982"
      ]
     },
     "execution_count": 37,
     "metadata": {},
     "output_type": "execute_result"
    }
   ],
   "source": [
    "average_precision_score(y_test, y_pred_proba)"
   ]
  },
  {
   "cell_type": "markdown",
   "metadata": {},
   "source": [
    "### with class_weigth"
   ]
  },
  {
   "cell_type": "code",
   "execution_count": 110,
   "metadata": {},
   "outputs": [],
   "source": [
    "# tommy hocanın modeli\n",
    "model = Sequential()\n",
    "model.add(Dense(30, activation=\"relu\"))\n",
    "model.add(Dropout(0.5))\n",
    "model.add(Dense(15, activation=\"relu\"))\n",
    "model.add(Dropout(0.5))\n",
    "model.add(Dense(1, activation=\"sigmoid\"))\n",
    "\n",
    "opt = Adam(lr=0.001)\n",
    "model.compile(optimizer=opt, \n",
    "              loss=\"binary_crossentropy\",\n",
    "              metrics=[\"accuracy\"])"
   ]
  },
  {
   "cell_type": "code",
   "execution_count": 38,
   "metadata": {
    "cell_style": "split"
   },
   "outputs": [],
   "source": [
    "model = Sequential()\n",
    "\n",
    "model.add(Dense(16, activation=\"relu\"))\n",
    "model.add(Dense(8, activation=\"relu\"))\n",
    "model.add(Dense(1, activation=\"sigmoid\"))\n",
    "\n",
    "opt = Adam(lr=0.001)\n",
    "model.compile(optimizer=opt, \n",
    "              loss=\"binary_crossentropy\",\n",
    "              metrics=[\"Recall\"])"
   ]
  },
  {
   "cell_type": "code",
   "execution_count": 111,
   "metadata": {
    "cell_style": "split"
   },
   "outputs": [],
   "source": [
    "early_stop = EarlyStopping(monitor=\"val_loss\",\n",
    "                           mode=\"auto\",\n",
    "                           verbose=1,\n",
    "                           patience=15)"
   ]
  },
  {
   "cell_type": "code",
   "execution_count": 112,
   "metadata": {},
   "outputs": [
    {
     "data": {
      "text/plain": [
       "{0: 0.6278777731268314, 1: 2.454991816693944}"
      ]
     },
     "execution_count": 112,
     "metadata": {},
     "output_type": "execute_result"
    }
   ],
   "source": [
    "from sklearn.utils import class_weight\n",
    "\n",
    "class_weights = class_weight.compute_class_weight('balanced',\n",
    "                                                  classes=np.unique(y_train),\n",
    "                                                  y=y_train)\n",
    "\n",
    "class_weights = {0: class_weights[0], 1: class_weights[1]}\n",
    "class_weights"
   ]
  },
  {
   "cell_type": "code",
   "execution_count": 113,
   "metadata": {
    "scrolled": true
   },
   "outputs": [
    {
     "name": "stdout",
     "output_type": "stream",
     "text": [
      "Epoch 1/200\n",
      "64/64 [==============================] - 0s 3ms/step - loss: 0.7171 - accuracy: 0.5970 - val_loss: 0.6833 - val_accuracy: 0.5322\n",
      "Epoch 2/200\n",
      "64/64 [==============================] - 0s 1ms/step - loss: 0.6845 - accuracy: 0.5679 - val_loss: 0.6752 - val_accuracy: 0.5567\n",
      "Epoch 3/200\n",
      "64/64 [==============================] - 0s 1ms/step - loss: 0.6797 - accuracy: 0.5725 - val_loss: 0.6717 - val_accuracy: 0.5700\n",
      "Epoch 4/200\n",
      "64/64 [==============================] - 0s 1ms/step - loss: 0.6691 - accuracy: 0.5662 - val_loss: 0.6510 - val_accuracy: 0.6200\n",
      "Epoch 5/200\n",
      "64/64 [==============================] - 0s 1ms/step - loss: 0.6623 - accuracy: 0.5933 - val_loss: 0.6514 - val_accuracy: 0.6178\n",
      "Epoch 6/200\n",
      "64/64 [==============================] - 0s 1ms/step - loss: 0.6602 - accuracy: 0.5773 - val_loss: 0.6493 - val_accuracy: 0.6311\n",
      "Epoch 7/200\n",
      "64/64 [==============================] - 0s 1ms/step - loss: 0.6560 - accuracy: 0.5888 - val_loss: 0.6451 - val_accuracy: 0.6422\n",
      "Epoch 8/200\n",
      "64/64 [==============================] - 0s 1ms/step - loss: 0.6476 - accuracy: 0.6122 - val_loss: 0.6247 - val_accuracy: 0.6789\n",
      "Epoch 9/200\n",
      "64/64 [==============================] - 0s 1ms/step - loss: 0.6500 - accuracy: 0.6098 - val_loss: 0.6355 - val_accuracy: 0.6544\n",
      "Epoch 10/200\n",
      "64/64 [==============================] - 0s 1ms/step - loss: 0.6473 - accuracy: 0.6081 - val_loss: 0.6245 - val_accuracy: 0.6744\n",
      "Epoch 11/200\n",
      "64/64 [==============================] - 0s 1ms/step - loss: 0.6386 - accuracy: 0.6037 - val_loss: 0.6231 - val_accuracy: 0.6789\n",
      "Epoch 12/200\n",
      "64/64 [==============================] - 0s 1ms/step - loss: 0.6387 - accuracy: 0.6099 - val_loss: 0.6279 - val_accuracy: 0.6778\n",
      "Epoch 13/200\n",
      "64/64 [==============================] - 0s 1ms/step - loss: 0.6350 - accuracy: 0.6314 - val_loss: 0.6173 - val_accuracy: 0.6867\n",
      "Epoch 14/200\n",
      "64/64 [==============================] - 0s 1ms/step - loss: 0.6297 - accuracy: 0.6438 - val_loss: 0.6156 - val_accuracy: 0.6822\n",
      "Epoch 15/200\n",
      "64/64 [==============================] - 0s 1ms/step - loss: 0.6350 - accuracy: 0.6351 - val_loss: 0.5978 - val_accuracy: 0.6978\n",
      "Epoch 16/200\n",
      "64/64 [==============================] - 0s 1ms/step - loss: 0.6291 - accuracy: 0.6416 - val_loss: 0.6283 - val_accuracy: 0.6656\n",
      "Epoch 17/200\n",
      "64/64 [==============================] - 0s 1ms/step - loss: 0.6236 - accuracy: 0.6459 - val_loss: 0.5982 - val_accuracy: 0.7000\n",
      "Epoch 18/200\n",
      "64/64 [==============================] - 0s 1ms/step - loss: 0.6219 - accuracy: 0.6565 - val_loss: 0.5883 - val_accuracy: 0.7111\n",
      "Epoch 19/200\n",
      "64/64 [==============================] - 0s 1ms/step - loss: 0.6217 - accuracy: 0.6617 - val_loss: 0.5913 - val_accuracy: 0.7044\n",
      "Epoch 20/200\n",
      "64/64 [==============================] - 0s 1ms/step - loss: 0.6153 - accuracy: 0.6660 - val_loss: 0.5867 - val_accuracy: 0.7000\n",
      "Epoch 21/200\n",
      "64/64 [==============================] - 0s 1ms/step - loss: 0.6206 - accuracy: 0.6677 - val_loss: 0.5964 - val_accuracy: 0.6922\n",
      "Epoch 22/200\n",
      "64/64 [==============================] - 0s 1ms/step - loss: 0.6100 - accuracy: 0.6704 - val_loss: 0.5768 - val_accuracy: 0.7022\n",
      "Epoch 23/200\n",
      "64/64 [==============================] - 0s 1ms/step - loss: 0.6074 - accuracy: 0.6940 - val_loss: 0.5914 - val_accuracy: 0.6956\n",
      "Epoch 24/200\n",
      "64/64 [==============================] - 0s 1ms/step - loss: 0.6127 - accuracy: 0.6754 - val_loss: 0.5791 - val_accuracy: 0.7089\n",
      "Epoch 25/200\n",
      "64/64 [==============================] - 0s 1ms/step - loss: 0.6022 - accuracy: 0.6974 - val_loss: 0.5594 - val_accuracy: 0.7233\n",
      "Epoch 26/200\n",
      "64/64 [==============================] - 0s 1ms/step - loss: 0.6023 - accuracy: 0.6952 - val_loss: 0.5666 - val_accuracy: 0.7144\n",
      "Epoch 27/200\n",
      "64/64 [==============================] - 0s 1ms/step - loss: 0.6065 - accuracy: 0.7031 - val_loss: 0.5800 - val_accuracy: 0.6967\n",
      "Epoch 28/200\n",
      "64/64 [==============================] - 0s 1ms/step - loss: 0.6024 - accuracy: 0.7028 - val_loss: 0.5549 - val_accuracy: 0.7244\n",
      "Epoch 29/200\n",
      "64/64 [==============================] - 0s 1ms/step - loss: 0.5929 - accuracy: 0.7133 - val_loss: 0.5559 - val_accuracy: 0.7222\n",
      "Epoch 30/200\n",
      "64/64 [==============================] - 0s 1ms/step - loss: 0.5882 - accuracy: 0.7057 - val_loss: 0.5460 - val_accuracy: 0.7344\n",
      "Epoch 31/200\n",
      "64/64 [==============================] - 0s 1ms/step - loss: 0.5826 - accuracy: 0.7236 - val_loss: 0.5544 - val_accuracy: 0.7167\n",
      "Epoch 32/200\n",
      "64/64 [==============================] - 0s 1ms/step - loss: 0.5857 - accuracy: 0.7212 - val_loss: 0.5335 - val_accuracy: 0.7444\n",
      "Epoch 33/200\n",
      "64/64 [==============================] - 0s 1ms/step - loss: 0.5746 - accuracy: 0.7316 - val_loss: 0.5099 - val_accuracy: 0.7733\n",
      "Epoch 34/200\n",
      "64/64 [==============================] - 0s 1ms/step - loss: 0.5865 - accuracy: 0.7272 - val_loss: 0.5179 - val_accuracy: 0.7744\n",
      "Epoch 35/200\n",
      "64/64 [==============================] - 0s 1ms/step - loss: 0.5660 - accuracy: 0.7452 - val_loss: 0.5057 - val_accuracy: 0.7744\n",
      "Epoch 36/200\n",
      "64/64 [==============================] - 0s 1ms/step - loss: 0.5685 - accuracy: 0.7499 - val_loss: 0.5377 - val_accuracy: 0.7356\n",
      "Epoch 37/200\n",
      "64/64 [==============================] - 0s 1ms/step - loss: 0.5689 - accuracy: 0.7401 - val_loss: 0.5062 - val_accuracy: 0.7833\n",
      "Epoch 38/200\n",
      "64/64 [==============================] - 0s 1ms/step - loss: 0.5617 - accuracy: 0.7444 - val_loss: 0.5246 - val_accuracy: 0.7500\n",
      "Epoch 39/200\n",
      "64/64 [==============================] - 0s 1ms/step - loss: 0.5601 - accuracy: 0.7483 - val_loss: 0.5074 - val_accuracy: 0.7800\n",
      "Epoch 40/200\n",
      "64/64 [==============================] - 0s 1ms/step - loss: 0.5598 - accuracy: 0.7478 - val_loss: 0.4966 - val_accuracy: 0.7833\n",
      "Epoch 41/200\n",
      "64/64 [==============================] - 0s 1ms/step - loss: 0.5603 - accuracy: 0.7438 - val_loss: 0.4739 - val_accuracy: 0.8044\n",
      "Epoch 42/200\n",
      "64/64 [==============================] - 0s 1ms/step - loss: 0.5577 - accuracy: 0.7493 - val_loss: 0.4761 - val_accuracy: 0.8067\n",
      "Epoch 43/200\n",
      "64/64 [==============================] - 0s 1ms/step - loss: 0.5526 - accuracy: 0.7531 - val_loss: 0.4828 - val_accuracy: 0.8067\n",
      "Epoch 44/200\n",
      "64/64 [==============================] - 0s 1ms/step - loss: 0.5518 - accuracy: 0.7589 - val_loss: 0.5065 - val_accuracy: 0.7611\n",
      "Epoch 45/200\n",
      "64/64 [==============================] - 0s 1ms/step - loss: 0.5543 - accuracy: 0.7431 - val_loss: 0.4993 - val_accuracy: 0.7711\n",
      "Epoch 46/200\n",
      "64/64 [==============================] - 0s 1ms/step - loss: 0.5440 - accuracy: 0.7569 - val_loss: 0.4994 - val_accuracy: 0.7656\n",
      "Epoch 47/200\n",
      "64/64 [==============================] - 0s 1ms/step - loss: 0.5502 - accuracy: 0.7556 - val_loss: 0.5037 - val_accuracy: 0.7800\n",
      "Epoch 48/200\n",
      "64/64 [==============================] - 0s 1ms/step - loss: 0.5507 - accuracy: 0.7565 - val_loss: 0.4932 - val_accuracy: 0.7733\n",
      "Epoch 49/200\n",
      "64/64 [==============================] - 0s 1ms/step - loss: 0.5456 - accuracy: 0.7521 - val_loss: 0.4739 - val_accuracy: 0.7956\n",
      "Epoch 50/200\n",
      "64/64 [==============================] - 0s 1ms/step - loss: 0.5418 - accuracy: 0.7580 - val_loss: 0.5017 - val_accuracy: 0.7689\n",
      "Epoch 51/200\n",
      "64/64 [==============================] - 0s 1ms/step - loss: 0.5376 - accuracy: 0.7565 - val_loss: 0.4842 - val_accuracy: 0.7789\n",
      "Epoch 52/200\n",
      "64/64 [==============================] - 0s 1ms/step - loss: 0.5445 - accuracy: 0.7565 - val_loss: 0.5014 - val_accuracy: 0.7644\n",
      "Epoch 53/200\n",
      "64/64 [==============================] - 0s 1ms/step - loss: 0.5413 - accuracy: 0.7560 - val_loss: 0.4826 - val_accuracy: 0.7822\n",
      "Epoch 54/200\n",
      "64/64 [==============================] - 0s 1ms/step - loss: 0.5429 - accuracy: 0.7490 - val_loss: 0.4916 - val_accuracy: 0.7867\n",
      "Epoch 55/200\n",
      "64/64 [==============================] - 0s 1ms/step - loss: 0.5394 - accuracy: 0.7658 - val_loss: 0.4919 - val_accuracy: 0.7778\n",
      "Epoch 56/200\n",
      "64/64 [==============================] - 0s 1ms/step - loss: 0.5356 - accuracy: 0.7551 - val_loss: 0.4570 - val_accuracy: 0.8133\n",
      "Epoch 57/200\n",
      "64/64 [==============================] - 0s 1ms/step - loss: 0.5403 - accuracy: 0.7651 - val_loss: 0.4918 - val_accuracy: 0.7767\n",
      "Epoch 58/200\n",
      "64/64 [==============================] - 0s 1ms/step - loss: 0.5371 - accuracy: 0.7574 - val_loss: 0.5013 - val_accuracy: 0.7644\n"
     ]
    },
    {
     "name": "stdout",
     "output_type": "stream",
     "text": [
      "Epoch 59/200\n",
      "64/64 [==============================] - 0s 1ms/step - loss: 0.5338 - accuracy: 0.7630 - val_loss: 0.4740 - val_accuracy: 0.7889\n",
      "Epoch 60/200\n",
      "64/64 [==============================] - 0s 1ms/step - loss: 0.5334 - accuracy: 0.7570 - val_loss: 0.4893 - val_accuracy: 0.7756\n",
      "Epoch 61/200\n",
      "64/64 [==============================] - 0s 1ms/step - loss: 0.5409 - accuracy: 0.7498 - val_loss: 0.4924 - val_accuracy: 0.7867\n",
      "Epoch 62/200\n",
      "64/64 [==============================] - 0s 1ms/step - loss: 0.5388 - accuracy: 0.7556 - val_loss: 0.4718 - val_accuracy: 0.7922\n",
      "Epoch 63/200\n",
      "64/64 [==============================] - 0s 1ms/step - loss: 0.5298 - accuracy: 0.7599 - val_loss: 0.4712 - val_accuracy: 0.7878\n",
      "Epoch 64/200\n",
      "64/64 [==============================] - 0s 1ms/step - loss: 0.5325 - accuracy: 0.7556 - val_loss: 0.4743 - val_accuracy: 0.7822\n",
      "Epoch 65/200\n",
      "64/64 [==============================] - 0s 1ms/step - loss: 0.5294 - accuracy: 0.7569 - val_loss: 0.4663 - val_accuracy: 0.7867\n",
      "Epoch 66/200\n",
      "64/64 [==============================] - 0s 1ms/step - loss: 0.5353 - accuracy: 0.7564 - val_loss: 0.4720 - val_accuracy: 0.7911\n",
      "Epoch 67/200\n",
      "64/64 [==============================] - 0s 1ms/step - loss: 0.5342 - accuracy: 0.7568 - val_loss: 0.4750 - val_accuracy: 0.7922\n",
      "Epoch 68/200\n",
      "64/64 [==============================] - 0s 1ms/step - loss: 0.5257 - accuracy: 0.7602 - val_loss: 0.4620 - val_accuracy: 0.8000\n",
      "Epoch 69/200\n",
      "64/64 [==============================] - 0s 1ms/step - loss: 0.5248 - accuracy: 0.7541 - val_loss: 0.4671 - val_accuracy: 0.7889\n",
      "Epoch 70/200\n",
      "64/64 [==============================] - 0s 1ms/step - loss: 0.5220 - accuracy: 0.7559 - val_loss: 0.4589 - val_accuracy: 0.7922\n",
      "Epoch 71/200\n",
      "64/64 [==============================] - 0s 1ms/step - loss: 0.5212 - accuracy: 0.7569 - val_loss: 0.4718 - val_accuracy: 0.7844\n",
      "Epoch 00071: early stopping\n"
     ]
    },
    {
     "data": {
      "text/plain": [
       "<tensorflow.python.keras.callbacks.History at 0x230521409d0>"
      ]
     },
     "execution_count": 113,
     "metadata": {},
     "output_type": "execute_result"
    }
   ],
   "source": [
    "model.fit(x=X_train,\n",
    "          y=y_train,\n",
    "          validation_split=.1,\n",
    "          batch_size=128,\n",
    "          epochs=200,\n",
    "          verbose=1,\n",
    "          callbacks=[early_stop],\n",
    "          class_weight=class_weights)"
   ]
  },
  {
   "cell_type": "code",
   "execution_count": 114,
   "metadata": {
    "cell_style": "split",
    "executionInfo": {
     "elapsed": 809,
     "status": "ok",
     "timestamp": 1610205470123,
     "user": {
      "displayName": "Richard C",
      "photoUrl": "",
      "userId": "08040814671867660929"
     },
     "user_tz": -180
    },
    "id": "vQIbjGQduQpQ",
    "scrolled": true
   },
   "outputs": [
    {
     "data": {
      "text/plain": [
       "<AxesSubplot:>"
      ]
     },
     "execution_count": 114,
     "metadata": {},
     "output_type": "execute_result"
    },
    {
     "data": {
      "image/png": "[encoded data removed]",
      "text/plain": [
       "<Figure size 864x432 with 1 Axes>"
      ]
     },
     "metadata": {},
     "output_type": "display_data"
    }
   ],
   "source": [
    "loss_df = pd.DataFrame(model.history.history)\n",
    "loss_df.plot()"
   ]
  },
  {
   "cell_type": "code",
   "execution_count": 115,
   "metadata": {
    "cell_style": "split"
   },
   "outputs": [
    {
     "name": "stdout",
     "output_type": "stream",
     "text": [
      "[[596 200]\n",
      " [ 47 157]]\n",
      "              precision    recall  f1-score   support\n",
      "\n",
      "           0       0.93      0.75      0.83       796\n",
      "           1       0.44      0.77      0.56       204\n",
      "\n",
      "    accuracy                           0.75      1000\n",
      "   macro avg       0.68      0.76      0.69      1000\n",
      "weighted avg       0.83      0.75      0.77      1000\n",
      "\n"
     ]
    }
   ],
   "source": [
    "y_pred = model.predict_classes(X_test)\n",
    "print(confusion_matrix(y_test, y_pred))\n",
    "print(classification_report(y_test, y_pred))"
   ]
  },
  {
   "cell_type": "markdown",
   "metadata": {},
   "source": [
    "### ROC (Receiver Operating Curve) and AUC (Area Under Curve) for model"
   ]
  },
  {
   "cell_type": "code",
   "execution_count": 44,
   "metadata": {
    "cell_style": "split",
    "scrolled": true
   },
   "outputs": [
    {
     "data": {
      "image/png": "[encoded data removed]",
      "text/plain": [
       "<Figure size 864x432 with 1 Axes>"
      ]
     },
     "metadata": {},
     "output_type": "display_data"
    }
   ],
   "source": [
    "y_pred_proba = model.predict_proba(X_test)\n",
    "precisions, recalls, thresholds = precision_recall_curve(y_test, y_pred_proba)\n",
    "plt.plot(recalls, precisions, label='ANN')\n",
    "plt.xlabel('recalls')\n",
    "plt.ylabel('precisions')\n",
    "plt.title('Precision-Recall curve')\n",
    "plt.show()"
   ]
  },
  {
   "cell_type": "code",
   "execution_count": 45,
   "metadata": {
    "cell_style": "split"
   },
   "outputs": [
    {
     "data": {
      "text/plain": [
       "0.6726066367790163"
      ]
     },
     "execution_count": 45,
     "metadata": {},
     "output_type": "execute_result"
    }
   ],
   "source": [
    "average_precision_score(y_test, y_pred_proba)"
   ]
  },
  {
   "cell_type": "markdown",
   "metadata": {},
   "source": [
    "## GridSearchCV"
   ]
  },
  {
   "cell_type": "code",
   "execution_count": 46,
   "metadata": {},
   "outputs": [],
   "source": [
    "from tensorflow.keras.wrappers.scikit_learn import KerasClassifier"
   ]
  },
  {
   "cell_type": "code",
   "execution_count": 47,
   "metadata": {},
   "outputs": [],
   "source": [
    "def build_classifier(optimizer):\n",
    "    classifier = Sequential()\n",
    "    classifier.add(Dense(units=16, activation='relu'))\n",
    "    classifier.add(Dense(units=8, activation='relu'))\n",
    "    classifier.add(Dense(units=1, activation='sigmoid'))\n",
    "    classifier.compile(optimizer=optimizer,\n",
    "                       loss='binary_crossentropy',\n",
    "                       metrics=['Recall'])\n",
    "    return classifier"
   ]
  },
  {
   "cell_type": "code",
   "execution_count": 48,
   "metadata": {},
   "outputs": [
    {
     "data": {
      "text/plain": [
       "{0: 0.6278777731268314, 1: 2.454991816693944}"
      ]
     },
     "execution_count": 48,
     "metadata": {},
     "output_type": "execute_result"
    }
   ],
   "source": [
    "class_weights"
   ]
  },
  {
   "cell_type": "code",
   "execution_count": 49,
   "metadata": {
    "scrolled": true
   },
   "outputs": [
    {
     "name": "stdout",
     "output_type": "stream",
     "text": [
      "Epoch 1/150\n",
      "36/36 [==============================] - 0s 720us/step - loss: 0.6843 - recall: 0.2548\n",
      "Epoch 2/150\n",
      "36/36 [==============================] - 0s 803us/step - loss: 0.6745 - recall: 0.4441\n",
      "Epoch 3/150\n",
      "36/36 [==============================] - 0s 748us/step - loss: 0.6607 - recall: 0.5537\n",
      "Epoch 4/150\n",
      "36/36 [==============================] - 0s 803us/step - loss: 0.6480 - recall: 0.6187\n",
      "Epoch 5/150\n",
      "36/36 [==============================] - 0s 748us/step - loss: 0.6390 - recall: 0.6503\n",
      "Epoch 6/150\n",
      "36/36 [==============================] - 0s 859us/step - loss: 0.6322 - recall: 0.6694\n",
      "Epoch 7/150\n",
      "36/36 [==============================] - 0s 720us/step - loss: 0.6268 - recall: 0.6716\n",
      "Epoch 8/150\n",
      "36/36 [==============================] - 0s 637us/step - loss: 0.6219 - recall: 0.6754\n",
      "Epoch 9/150\n",
      "36/36 [==============================] - 0s 609us/step - loss: 0.6176 - recall: 0.6819\n",
      "Epoch 10/150\n",
      "36/36 [==============================] - 0s 637us/step - loss: 0.6135 - recall: 0.6869\n",
      "Epoch 11/150\n",
      "36/36 [==============================] - 0s 794us/step - loss: 0.6099 - recall: 0.7010\n",
      "Epoch 12/150\n",
      "36/36 [==============================] - 0s 776us/step - loss: 0.6065 - recall: 0.6945\n",
      "Epoch 13/150\n",
      "36/36 [==============================] - 0s 665us/step - loss: 0.6033 - recall: 0.6994\n",
      "Epoch 14/150\n",
      "36/36 [==============================] - 0s 720us/step - loss: 0.5999 - recall: 0.6841\n",
      "Epoch 15/150\n",
      "36/36 [==============================] - 0s 665us/step - loss: 0.5967 - recall: 0.7010\n",
      "Epoch 16/150\n",
      "36/36 [==============================] - 0s 637us/step - loss: 0.5939 - recall: 0.6929\n",
      "Epoch 17/150\n",
      "36/36 [==============================] - 0s 609us/step - loss: 0.5910 - recall: 0.7043\n",
      "Epoch 18/150\n",
      "36/36 [==============================] - 0s 665us/step - loss: 0.5880 - recall: 0.6950\n",
      "Epoch 19/150\n",
      "36/36 [==============================] - 0s 637us/step - loss: 0.5852 - recall: 0.7087\n",
      "Epoch 20/150\n",
      "36/36 [==============================] - 0s 665us/step - loss: 0.5827 - recall: 0.7098\n",
      "Epoch 21/150\n",
      "36/36 [==============================] - 0s 693us/step - loss: 0.5807 - recall: 0.7179\n",
      "Epoch 22/150\n",
      "36/36 [==============================] - 0s 748us/step - loss: 0.5789 - recall: 0.7038\n",
      "Epoch 23/150\n",
      "36/36 [==============================] - ETA: 0s - loss: 0.6418 - recall: 0.64 - 0s 831us/step - loss: 0.5769 - recall: 0.7087\n",
      "Epoch 24/150\n",
      "36/36 [==============================] - 0s 693us/step - loss: 0.5750 - recall: 0.7179\n",
      "Epoch 25/150\n",
      "36/36 [==============================] - 0s 609us/step - loss: 0.5737 - recall: 0.7054\n",
      "Epoch 26/150\n",
      "36/36 [==============================] - 0s 637us/step - loss: 0.5717 - recall: 0.7136\n",
      "Epoch 27/150\n",
      "36/36 [==============================] - 0s 665us/step - loss: 0.5706 - recall: 0.7234\n",
      "Epoch 28/150\n",
      "36/36 [==============================] - 0s 609us/step - loss: 0.5687 - recall: 0.7163\n",
      "Epoch 29/150\n",
      "36/36 [==============================] - 0s 665us/step - loss: 0.5674 - recall: 0.7294\n",
      "Epoch 30/150\n",
      "36/36 [==============================] - 0s 604us/step - loss: 0.5658 - recall: 0.7103\n",
      "Epoch 31/150\n",
      "36/36 [==============================] - 0s 582us/step - loss: 0.5642 - recall: 0.7196\n",
      "Epoch 32/150\n",
      "36/36 [==============================] - 0s 609us/step - loss: 0.5621 - recall: 0.7223\n",
      "Epoch 33/150\n",
      "36/36 [==============================] - 0s 665us/step - loss: 0.5608 - recall: 0.7223\n",
      "Epoch 34/150\n",
      "36/36 [==============================] - 0s 748us/step - loss: 0.5592 - recall: 0.7218\n",
      "Epoch 35/150\n",
      "36/36 [==============================] - 0s 665us/step - loss: 0.5576 - recall: 0.7294\n",
      "Epoch 36/150\n",
      "36/36 [==============================] - 0s 665us/step - loss: 0.5550 - recall: 0.7300\n",
      "Epoch 37/150\n",
      "36/36 [==============================] - 0s 665us/step - loss: 0.5525 - recall: 0.7376\n",
      "Epoch 38/150\n",
      "36/36 [==============================] - 0s 665us/step - loss: 0.5507 - recall: 0.7229\n",
      "Epoch 39/150\n",
      "36/36 [==============================] - 0s 693us/step - loss: 0.5479 - recall: 0.7305\n",
      "Epoch 40/150\n",
      "36/36 [==============================] - 0s 693us/step - loss: 0.5449 - recall: 0.7256\n",
      "Epoch 41/150\n",
      "36/36 [==============================] - 0s 637us/step - loss: 0.5413 - recall: 0.7354\n",
      "Epoch 42/150\n",
      "36/36 [==============================] - 0s 665us/step - loss: 0.5387 - recall: 0.7376\n",
      "Epoch 43/150\n",
      "36/36 [==============================] - 0s 680us/step - loss: 0.5348 - recall: 0.7420\n",
      "Epoch 44/150\n",
      "36/36 [==============================] - 0s 803us/step - loss: 0.5325 - recall: 0.7343\n",
      "Epoch 45/150\n",
      "36/36 [==============================] - 0s 914us/step - loss: 0.5281 - recall: 0.7441\n",
      "Epoch 46/150\n",
      "36/36 [==============================] - 0s 720us/step - loss: 0.5256 - recall: 0.7469\n",
      "Epoch 47/150\n",
      "36/36 [==============================] - 0s 720us/step - loss: 0.5221 - recall: 0.7512\n",
      "Epoch 48/150\n",
      "36/36 [==============================] - 0s 626us/step - loss: 0.5186 - recall: 0.7485\n",
      "Epoch 49/150\n",
      "36/36 [==============================] - 0s 665us/step - loss: 0.5155 - recall: 0.7561\n",
      "Epoch 50/150\n",
      "36/36 [==============================] - 0s 665us/step - loss: 0.5123 - recall: 0.7561\n",
      "Epoch 51/150\n",
      "36/36 [==============================] - ETA: 0s - loss: 0.5275 - recall: 0.78 - 0s 637us/step - loss: 0.5088 - recall: 0.7643\n",
      "Epoch 52/150\n",
      "36/36 [==============================] - 0s 720us/step - loss: 0.5067 - recall: 0.7578\n",
      "Epoch 53/150\n",
      "36/36 [==============================] - 0s 665us/step - loss: 0.5045 - recall: 0.7545\n",
      "Epoch 54/150\n",
      "36/36 [==============================] - 0s 627us/step - loss: 0.5022 - recall: 0.7589\n",
      "Epoch 55/150\n",
      "36/36 [==============================] - 0s 609us/step - loss: 0.5003 - recall: 0.7687\n",
      "Epoch 56/150\n",
      "36/36 [==============================] - 0s 637us/step - loss: 0.4971 - recall: 0.7534\n",
      "Epoch 57/150\n",
      "36/36 [==============================] - 0s 693us/step - loss: 0.4954 - recall: 0.7621\n",
      "Epoch 58/150\n",
      "36/36 [==============================] - 0s 712us/step - loss: 0.4929 - recall: 0.7583\n",
      "Epoch 59/150\n",
      "36/36 [==============================] - 0s 609us/step - loss: 0.4920 - recall: 0.7561\n",
      "Epoch 60/150\n",
      "36/36 [==============================] - 0s 693us/step - loss: 0.4903 - recall: 0.7600\n",
      "Epoch 61/150\n",
      "36/36 [==============================] - 0s 665us/step - loss: 0.4887 - recall: 0.7610\n",
      "Epoch 62/150\n",
      "36/36 [==============================] - 0s 654us/step - loss: 0.4878 - recall: 0.7616\n",
      "Epoch 63/150\n",
      "36/36 [==============================] - 0s 609us/step - loss: 0.4871 - recall: 0.7621\n",
      "Epoch 64/150\n",
      "36/36 [==============================] - 0s 582us/step - loss: 0.4856 - recall: 0.7578\n",
      "Epoch 65/150\n",
      "36/36 [==============================] - 0s 637us/step - loss: 0.4843 - recall: 0.7556\n",
      "Epoch 66/150\n",
      "36/36 [==============================] - 0s 665us/step - loss: 0.4836 - recall: 0.7649\n",
      "Epoch 67/150\n",
      "36/36 [==============================] - 0s 609us/step - loss: 0.4833 - recall: 0.7561\n",
      "Epoch 68/150\n",
      "36/36 [==============================] - ETA: 0s - loss: 0.4706 - recall: 0.83 - 0s 637us/step - loss: 0.4823 - recall: 0.7654\n",
      "Epoch 69/150\n",
      "36/36 [==============================] - 0s 720us/step - loss: 0.4819 - recall: 0.7621\n",
      "Epoch 70/150\n",
      "36/36 [==============================] - 0s 665us/step - loss: 0.4808 - recall: 0.7583\n",
      "Epoch 71/150\n",
      "36/36 [==============================] - 0s 637us/step - loss: 0.4800 - recall: 0.7610\n",
      "Epoch 72/150\n",
      "36/36 [==============================] - 0s 693us/step - loss: 0.4798 - recall: 0.7632\n",
      "Epoch 73/150\n",
      "36/36 [==============================] - 0s 887us/step - loss: 0.4790 - recall: 0.7610\n",
      "Epoch 74/150\n",
      "36/36 [==============================] - 0s 748us/step - loss: 0.4780 - recall: 0.7687\n",
      "Epoch 75/150\n",
      "36/36 [==============================] - 0s 637us/step - loss: 0.4776 - recall: 0.7610\n",
      "Epoch 76/150\n",
      "36/36 [==============================] - 0s 665us/step - loss: 0.4774 - recall: 0.7681\n",
      "Epoch 77/150\n",
      "36/36 [==============================] - 0s 637us/step - loss: 0.4767 - recall: 0.7654\n",
      "Epoch 78/150\n",
      "36/36 [==============================] - 0s 637us/step - loss: 0.4772 - recall: 0.7594\n",
      "Epoch 79/150\n",
      "36/36 [==============================] - 0s 637us/step - loss: 0.4763 - recall: 0.7627\n",
      "Epoch 80/150\n",
      "36/36 [==============================] - 0s 637us/step - loss: 0.4751 - recall: 0.7610\n",
      "Epoch 81/150\n"
     ]
    },
    {
     "name": "stdout",
     "output_type": "stream",
     "text": [
      "36/36 [==============================] - 0s 665us/step - loss: 0.4753 - recall: 0.7583\n",
      "Epoch 82/150\n",
      "36/36 [==============================] - 0s 637us/step - loss: 0.4755 - recall: 0.7714\n",
      "Epoch 83/150\n",
      "36/36 [==============================] - 0s 666us/step - loss: 0.4750 - recall: 0.7512\n",
      "Epoch 84/150\n",
      "36/36 [==============================] - 0s 665us/step - loss: 0.4747 - recall: 0.7578\n",
      "Epoch 85/150\n",
      "36/36 [==============================] - 0s 693us/step - loss: 0.4737 - recall: 0.7632\n",
      "Epoch 86/150\n",
      "36/36 [==============================] - 0s 582us/step - loss: 0.4738 - recall: 0.7578\n",
      "Epoch 87/150\n",
      "36/36 [==============================] - 0s 665us/step - loss: 0.4727 - recall: 0.7589\n",
      "Epoch 88/150\n",
      "36/36 [==============================] - 0s 637us/step - loss: 0.4731 - recall: 0.7496\n",
      "Epoch 89/150\n",
      "36/36 [==============================] - 0s 637us/step - loss: 0.4725 - recall: 0.7703\n",
      "Epoch 90/150\n",
      "36/36 [==============================] - 0s 637us/step - loss: 0.4722 - recall: 0.7540\n",
      "Epoch 91/150\n",
      "36/36 [==============================] - 0s 665us/step - loss: 0.4727 - recall: 0.7643\n",
      "Epoch 92/150\n",
      "36/36 [==============================] - 0s 665us/step - loss: 0.4711 - recall: 0.7616\n",
      "Epoch 93/150\n",
      "36/36 [==============================] - 0s 720us/step - loss: 0.4716 - recall: 0.7567\n",
      "Epoch 94/150\n",
      "36/36 [==============================] - 0s 720us/step - loss: 0.4712 - recall: 0.7627\n",
      "Epoch 95/150\n",
      "36/36 [==============================] - 0s 693us/step - loss: 0.4708 - recall: 0.7589\n",
      "Epoch 96/150\n",
      "36/36 [==============================] - 0s 693us/step - loss: 0.4709 - recall: 0.7545\n",
      "Epoch 97/150\n",
      "36/36 [==============================] - 0s 720us/step - loss: 0.4698 - recall: 0.7436\n",
      "Epoch 98/150\n",
      "36/36 [==============================] - ETA: 0s - loss: 0.5242 - recall: 0.75 - 0s 720us/step - loss: 0.4697 - recall: 0.7567\n",
      "Epoch 99/150\n",
      "36/36 [==============================] - 0s 720us/step - loss: 0.4700 - recall: 0.7578\n",
      "Epoch 100/150\n",
      "36/36 [==============================] - 0s 637us/step - loss: 0.4703 - recall: 0.7523\n",
      "Epoch 101/150\n",
      "36/36 [==============================] - 0s 609us/step - loss: 0.4689 - recall: 0.7523\n",
      "Epoch 102/150\n",
      "36/36 [==============================] - 0s 637us/step - loss: 0.4694 - recall: 0.7578\n",
      "Epoch 103/150\n",
      "36/36 [==============================] - 0s 665us/step - loss: 0.4685 - recall: 0.7572\n",
      "Epoch 104/150\n",
      "36/36 [==============================] - 0s 682us/step - loss: 0.4688 - recall: 0.7556\n",
      "Epoch 105/150\n",
      "36/36 [==============================] - 0s 582us/step - loss: 0.4680 - recall: 0.7523\n",
      "Epoch 106/150\n",
      "36/36 [==============================] - 0s 637us/step - loss: 0.4680 - recall: 0.7561\n",
      "Epoch 107/150\n",
      "36/36 [==============================] - 0s 609us/step - loss: 0.4682 - recall: 0.7512\n",
      "Epoch 108/150\n",
      "36/36 [==============================] - 0s 709us/step - loss: 0.4679 - recall: 0.7572\n",
      "Epoch 109/150\n",
      "36/36 [==============================] - 0s 637us/step - loss: 0.4685 - recall: 0.7501\n",
      "Epoch 110/150\n",
      "36/36 [==============================] - 0s 720us/step - loss: 0.4671 - recall: 0.7616\n",
      "Epoch 111/150\n",
      "36/36 [==============================] - 0s 665us/step - loss: 0.4672 - recall: 0.7463\n",
      "Epoch 112/150\n",
      "36/36 [==============================] - 0s 665us/step - loss: 0.4675 - recall: 0.7540\n",
      "Epoch 113/150\n",
      "36/36 [==============================] - 0s 638us/step - loss: 0.4678 - recall: 0.7523\n",
      "Epoch 114/150\n",
      "36/36 [==============================] - 0s 665us/step - loss: 0.4665 - recall: 0.7561\n",
      "Epoch 115/150\n",
      "36/36 [==============================] - 0s 748us/step - loss: 0.4669 - recall: 0.7507\n",
      "Epoch 116/150\n",
      "36/36 [==============================] - 0s 665us/step - loss: 0.4669 - recall: 0.7665\n",
      "Epoch 117/150\n",
      "36/36 [==============================] - 0s 610us/step - loss: 0.4663 - recall: 0.7578\n",
      "Epoch 118/150\n",
      "36/36 [==============================] - 0s 637us/step - loss: 0.4668 - recall: 0.7567\n",
      "Epoch 119/150\n",
      "36/36 [==============================] - 0s 745us/step - loss: 0.4656 - recall: 0.7578\n",
      "Epoch 120/150\n",
      "36/36 [==============================] - 0s 748us/step - loss: 0.4664 - recall: 0.7610\n",
      "Epoch 121/150\n",
      "36/36 [==============================] - 0s 582us/step - loss: 0.4667 - recall: 0.7567\n",
      "Epoch 122/150\n",
      "36/36 [==============================] - 0s 609us/step - loss: 0.4651 - recall: 0.7627\n",
      "Epoch 123/150\n",
      "36/36 [==============================] - 0s 665us/step - loss: 0.4650 - recall: 0.7621\n",
      "Epoch 124/150\n",
      "36/36 [==============================] - 0s 720us/step - loss: 0.4655 - recall: 0.7567\n",
      "Epoch 125/150\n",
      "36/36 [==============================] - 0s 693us/step - loss: 0.4662 - recall: 0.7540\n",
      "Epoch 126/150\n",
      "36/36 [==============================] - 0s 748us/step - loss: 0.4653 - recall: 0.7578\n",
      "Epoch 127/150\n",
      "36/36 [==============================] - 0s 693us/step - loss: 0.4652 - recall: 0.7610\n",
      "Epoch 128/150\n",
      "36/36 [==============================] - 0s 859us/step - loss: 0.4649 - recall: 0.7545\n",
      "Epoch 129/150\n",
      "36/36 [==============================] - 0s 859us/step - loss: 0.4642 - recall: 0.7556\n",
      "Epoch 130/150\n",
      "36/36 [==============================] - 0s 776us/step - loss: 0.4647 - recall: 0.7490\n",
      "Epoch 131/150\n",
      "36/36 [==============================] - 0s 693us/step - loss: 0.4653 - recall: 0.7670\n",
      "Epoch 132/150\n",
      "36/36 [==============================] - 0s 637us/step - loss: 0.4639 - recall: 0.7600\n",
      "Epoch 133/150\n",
      "36/36 [==============================] - 0s 638us/step - loss: 0.4639 - recall: 0.7616\n",
      "Epoch 134/150\n",
      "36/36 [==============================] - 0s 610us/step - loss: 0.4638 - recall: 0.7572\n",
      "Epoch 135/150\n",
      "36/36 [==============================] - 0s 582us/step - loss: 0.4643 - recall: 0.7643\n",
      "Epoch 136/150\n",
      "36/36 [==============================] - 0s 609us/step - loss: 0.4647 - recall: 0.7632\n",
      "Epoch 137/150\n",
      "36/36 [==============================] - 0s 610us/step - loss: 0.4639 - recall: 0.7594\n",
      "Epoch 138/150\n",
      "36/36 [==============================] - 0s 722us/step - loss: 0.4642 - recall: 0.7594\n",
      "Epoch 139/150\n",
      "36/36 [==============================] - 0s 776us/step - loss: 0.4623 - recall: 0.7578\n",
      "Epoch 140/150\n",
      "36/36 [==============================] - 0s 693us/step - loss: 0.4631 - recall: 0.7616\n",
      "Epoch 141/150\n",
      "36/36 [==============================] - 0s 609us/step - loss: 0.4631 - recall: 0.7594\n",
      "Epoch 142/150\n",
      "36/36 [==============================] - 0s 637us/step - loss: 0.4637 - recall: 0.7654\n",
      "Epoch 143/150\n",
      "36/36 [==============================] - 0s 693us/step - loss: 0.4626 - recall: 0.7605\n",
      "Epoch 144/150\n",
      "36/36 [==============================] - 0s 610us/step - loss: 0.4628 - recall: 0.7572\n",
      "Epoch 145/150\n",
      "36/36 [==============================] - 0s 692us/step - loss: 0.4626 - recall: 0.7605\n",
      "Epoch 146/150\n",
      "36/36 [==============================] - 0s 665us/step - loss: 0.4620 - recall: 0.7665\n",
      "Epoch 147/150\n",
      "36/36 [==============================] - 0s 720us/step - loss: 0.4621 - recall: 0.7616\n",
      "Epoch 148/150\n",
      "36/36 [==============================] - 0s 665us/step - loss: 0.4611 - recall: 0.7681\n",
      "Epoch 149/150\n",
      "36/36 [==============================] - 0s 720us/step - loss: 0.4628 - recall: 0.7540\n",
      "Epoch 150/150\n",
      "36/36 [==============================] - 0s 664us/step - loss: 0.4621 - recall: 0.7561\n"
     ]
    }
   ],
   "source": [
    "classifier = KerasClassifier(build_fn=build_classifier, epochs=150)\n",
    "parameters = {\n",
    "    'batch_size': [128, 256],\n",
    "    'optimizer': [Adam, 'rmsprop', \"SGD\", \"adagrad\", \"adadelta\"]\n",
    "}\n",
    "grid_model = GridSearchCV(estimator=classifier,\n",
    "                          param_grid=parameters,\n",
    "                          scoring='recall',\n",
    "                          cv=5,\n",
    "                          n_jobs=-1,\n",
    "                          verbose=0).fit(X_train,\n",
    "                                         y_train,\n",
    "                                         class_weight=class_weights)"
   ]
  },
  {
   "cell_type": "code",
   "execution_count": 50,
   "metadata": {},
   "outputs": [
    {
     "data": {
      "text/plain": [
       "0.7203420514278609"
      ]
     },
     "execution_count": 50,
     "metadata": {},
     "output_type": "execute_result"
    }
   ],
   "source": [
    "grid_model.best_score_"
   ]
  },
  {
   "cell_type": "code",
   "execution_count": 51,
   "metadata": {},
   "outputs": [
    {
     "data": {
      "text/plain": [
       "{'batch_size': 256, 'optimizer': 'rmsprop'}"
      ]
     },
     "execution_count": 51,
     "metadata": {},
     "output_type": "execute_result"
    }
   ],
   "source": [
    "grid_model.best_params_"
   ]
  },
  {
   "cell_type": "code",
   "execution_count": 52,
   "metadata": {},
   "outputs": [
    {
     "name": "stdout",
     "output_type": "stream",
     "text": [
      "[[556 240]\n",
      " [ 40 164]]\n",
      "              precision    recall  f1-score   support\n",
      "\n",
      "           0       0.93      0.70      0.80       796\n",
      "           1       0.41      0.80      0.54       204\n",
      "\n",
      "    accuracy                           0.72      1000\n",
      "   macro avg       0.67      0.75      0.67      1000\n",
      "weighted avg       0.83      0.72      0.75      1000\n",
      "\n"
     ]
    }
   ],
   "source": [
    "y_pred = grid_model.predict(X_test)\n",
    "print(confusion_matrix(y_test, y_pred))\n",
    "print(classification_report(y_test, y_pred))"
   ]
  },
  {
   "cell_type": "markdown",
   "metadata": {},
   "source": [
    "### ROC (Receiver Operating Curve) and AUC (Area Under Curve) for grid_model"
   ]
  },
  {
   "cell_type": "code",
   "execution_count": 53,
   "metadata": {
    "cell_style": "split",
    "scrolled": true
   },
   "outputs": [
    {
     "data": {
      "image/png": "[encoded data removed]",
      "text/plain": [
       "<Figure size 864x432 with 1 Axes>"
      ]
     },
     "metadata": {},
     "output_type": "display_data"
    }
   ],
   "source": [
    "y_pred_proba = grid_model.predict_proba(X_test)[:, 1]\n",
    "precisions, recalls, thresholds = precision_recall_curve(y_test, y_pred_proba)\n",
    "plt.plot(recalls, precisions, label='ANN')\n",
    "plt.xlabel('recalls')\n",
    "plt.ylabel('precisions')\n",
    "plt.title('Precision-Recall curve')\n",
    "plt.show()"
   ]
  },
  {
   "cell_type": "code",
   "execution_count": 54,
   "metadata": {
    "cell_style": "split",
    "scrolled": true
   },
   "outputs": [
    {
     "data": {
      "text/plain": [
       "0.664750192842897"
      ]
     },
     "execution_count": 54,
     "metadata": {},
     "output_type": "execute_result"
    }
   ],
   "source": [
    "average_precision_score(y_test, y_pred_proba)"
   ]
  },
  {
   "cell_type": "markdown",
   "metadata": {},
   "source": [
    "## Final Model and Model Deployment"
   ]
  },
  {
   "cell_type": "code",
   "execution_count": 55,
   "metadata": {},
   "outputs": [],
   "source": [
    "import pickle\n",
    "\n",
    "pickle.dump(scaler, open(\"scaler_churn\", 'wb'))"
   ]
  },
  {
   "cell_type": "code",
   "execution_count": 56,
   "metadata": {
    "scrolled": true
   },
   "outputs": [
    {
     "name": "stdout",
     "output_type": "stream",
     "text": [
      "Epoch 1/200\n",
      "71/71 [==============================] - 0s 3ms/step - loss: 0.6995 - recall: 0.3415 - val_loss: 0.6982 - val_recall: 0.5833\n",
      "Epoch 2/200\n",
      "71/71 [==============================] - 0s 840us/step - loss: 0.6749 - recall: 0.6279 - val_loss: 0.6877 - val_recall: 0.6029\n",
      "Epoch 3/200\n",
      "71/71 [==============================] - 0s 871us/step - loss: 0.6537 - recall: 0.6465 - val_loss: 0.6631 - val_recall: 0.6275\n",
      "Epoch 4/200\n",
      "71/71 [==============================] - 0s 899us/step - loss: 0.6357 - recall: 0.6492 - val_loss: 0.6307 - val_recall: 0.5833\n",
      "Epoch 5/200\n",
      "71/71 [==============================] - 0s 801us/step - loss: 0.6229 - recall: 0.6628 - val_loss: 0.6171 - val_recall: 0.5931\n",
      "Epoch 6/200\n",
      "71/71 [==============================] - 0s 773us/step - loss: 0.6136 - recall: 0.6623 - val_loss: 0.6345 - val_recall: 0.6422\n",
      "Epoch 7/200\n",
      "71/71 [==============================] - 0s 773us/step - loss: 0.6056 - recall: 0.6852 - val_loss: 0.5938 - val_recall: 0.6078\n",
      "Epoch 8/200\n",
      "71/71 [==============================] - 0s 773us/step - loss: 0.5990 - recall: 0.6836 - val_loss: 0.6313 - val_recall: 0.6569\n",
      "Epoch 9/200\n",
      "71/71 [==============================] - 0s 744us/step - loss: 0.5921 - recall: 0.7059 - val_loss: 0.5914 - val_recall: 0.6324\n",
      "Epoch 10/200\n",
      "71/71 [==============================] - 0s 741us/step - loss: 0.5863 - recall: 0.7010 - val_loss: 0.6299 - val_recall: 0.6863\n",
      "Epoch 11/200\n",
      "71/71 [==============================] - 0s 787us/step - loss: 0.5819 - recall: 0.7125 - val_loss: 0.5838 - val_recall: 0.6471\n",
      "Epoch 12/200\n",
      "71/71 [==============================] - 0s 773us/step - loss: 0.5779 - recall: 0.7070 - val_loss: 0.5922 - val_recall: 0.6569\n",
      "Epoch 13/200\n",
      "71/71 [==============================] - 0s 759us/step - loss: 0.5744 - recall: 0.7130 - val_loss: 0.5913 - val_recall: 0.6569\n",
      "Epoch 14/200\n",
      "71/71 [==============================] - 0s 744us/step - loss: 0.5713 - recall: 0.7125 - val_loss: 0.6104 - val_recall: 0.7010\n",
      "Epoch 15/200\n",
      "71/71 [==============================] - 0s 837us/step - loss: 0.5685 - recall: 0.7098 - val_loss: 0.5892 - val_recall: 0.6863\n",
      "Epoch 16/200\n",
      "71/71 [==============================] - 0s 801us/step - loss: 0.5660 - recall: 0.7038 - val_loss: 0.5717 - val_recall: 0.6667\n",
      "Epoch 17/200\n",
      "71/71 [==============================] - 0s 837us/step - loss: 0.5633 - recall: 0.7010 - val_loss: 0.6118 - val_recall: 0.7304\n",
      "Epoch 18/200\n",
      "71/71 [==============================] - 0s 814us/step - loss: 0.5602 - recall: 0.7158 - val_loss: 0.5585 - val_recall: 0.6618\n",
      "Epoch 19/200\n",
      "71/71 [==============================] - 0s 752us/step - loss: 0.5582 - recall: 0.7109 - val_loss: 0.5589 - val_recall: 0.6569\n",
      "Epoch 20/200\n",
      "71/71 [==============================] - 0s 759us/step - loss: 0.5549 - recall: 0.7103 - val_loss: 0.5954 - val_recall: 0.7353\n",
      "Epoch 21/200\n",
      "71/71 [==============================] - 0s 773us/step - loss: 0.5518 - recall: 0.7196 - val_loss: 0.6022 - val_recall: 0.7549\n",
      "Epoch 22/200\n",
      "71/71 [==============================] - 0s 812us/step - loss: 0.5493 - recall: 0.7179 - val_loss: 0.5675 - val_recall: 0.7059\n",
      "Epoch 23/200\n",
      "71/71 [==============================] - 0s 787us/step - loss: 0.5455 - recall: 0.7141 - val_loss: 0.5704 - val_recall: 0.7353\n",
      "Epoch 24/200\n",
      "71/71 [==============================] - 0s 769us/step - loss: 0.5416 - recall: 0.7174 - val_loss: 0.5616 - val_recall: 0.7353\n",
      "Epoch 25/200\n",
      "71/71 [==============================] - 0s 751us/step - loss: 0.5377 - recall: 0.7152 - val_loss: 0.5693 - val_recall: 0.7500\n",
      "Epoch 26/200\n",
      "71/71 [==============================] - 0s 773us/step - loss: 0.5344 - recall: 0.7130 - val_loss: 0.5425 - val_recall: 0.7157\n",
      "Epoch 27/200\n",
      "71/71 [==============================] - 0s 759us/step - loss: 0.5299 - recall: 0.7179 - val_loss: 0.5502 - val_recall: 0.7402\n",
      "Epoch 28/200\n",
      "71/71 [==============================] - 0s 773us/step - loss: 0.5260 - recall: 0.7163 - val_loss: 0.5591 - val_recall: 0.7549\n",
      "Epoch 29/200\n",
      "71/71 [==============================] - 0s 744us/step - loss: 0.5220 - recall: 0.7196 - val_loss: 0.4958 - val_recall: 0.6618\n",
      "Epoch 30/200\n",
      "71/71 [==============================] - 0s 744us/step - loss: 0.5174 - recall: 0.7218 - val_loss: 0.5279 - val_recall: 0.7402\n",
      "Epoch 31/200\n",
      "71/71 [==============================] - 0s 745us/step - loss: 0.5134 - recall: 0.7229 - val_loss: 0.5108 - val_recall: 0.7108\n",
      "Epoch 32/200\n",
      "71/71 [==============================] - 0s 801us/step - loss: 0.5083 - recall: 0.7316 - val_loss: 0.5206 - val_recall: 0.7402\n",
      "Epoch 33/200\n",
      "71/71 [==============================] - 0s 801us/step - loss: 0.5046 - recall: 0.7294 - val_loss: 0.5618 - val_recall: 0.7990\n",
      "Epoch 34/200\n",
      "71/71 [==============================] - 0s 773us/step - loss: 0.5009 - recall: 0.7392 - val_loss: 0.4741 - val_recall: 0.6912\n",
      "Epoch 35/200\n",
      "71/71 [==============================] - 0s 773us/step - loss: 0.4964 - recall: 0.7376 - val_loss: 0.4713 - val_recall: 0.7059\n",
      "Epoch 36/200\n",
      "71/71 [==============================] - 0s 795us/step - loss: 0.4941 - recall: 0.7381 - val_loss: 0.4407 - val_recall: 0.6471\n",
      "Epoch 37/200\n",
      "71/71 [==============================] - 0s 744us/step - loss: 0.4908 - recall: 0.7289 - val_loss: 0.5209 - val_recall: 0.7696\n",
      "Epoch 38/200\n",
      "71/71 [==============================] - 0s 773us/step - loss: 0.4890 - recall: 0.7436 - val_loss: 0.4925 - val_recall: 0.7402\n",
      "Epoch 39/200\n",
      "71/71 [==============================] - 0s 759us/step - loss: 0.4857 - recall: 0.7414 - val_loss: 0.4447 - val_recall: 0.6912\n",
      "Epoch 40/200\n",
      "71/71 [==============================] - 0s 829us/step - loss: 0.4829 - recall: 0.7436 - val_loss: 0.5041 - val_recall: 0.7500\n",
      "Epoch 41/200\n",
      "71/71 [==============================] - 0s 773us/step - loss: 0.4817 - recall: 0.7409 - val_loss: 0.5119 - val_recall: 0.7696\n",
      "Epoch 42/200\n",
      "71/71 [==============================] - 0s 773us/step - loss: 0.4801 - recall: 0.7501 - val_loss: 0.4785 - val_recall: 0.7304\n",
      "Epoch 43/200\n",
      "71/71 [==============================] - 0s 745us/step - loss: 0.4788 - recall: 0.7425 - val_loss: 0.4820 - val_recall: 0.7353\n",
      "Epoch 44/200\n",
      "71/71 [==============================] - 0s 759us/step - loss: 0.4765 - recall: 0.7463 - val_loss: 0.4828 - val_recall: 0.7598\n",
      "Epoch 45/200\n",
      "71/71 [==============================] - 0s 759us/step - loss: 0.4766 - recall: 0.7469 - val_loss: 0.4666 - val_recall: 0.7206\n",
      "Epoch 46/200\n",
      "71/71 [==============================] - 0s 773us/step - loss: 0.4753 - recall: 0.7561 - val_loss: 0.4832 - val_recall: 0.7402\n",
      "Epoch 47/200\n",
      "71/71 [==============================] - 0s 773us/step - loss: 0.4746 - recall: 0.7414 - val_loss: 0.5373 - val_recall: 0.7892\n",
      "Epoch 48/200\n",
      "71/71 [==============================] - 0s 773us/step - loss: 0.4736 - recall: 0.7534 - val_loss: 0.4485 - val_recall: 0.7059\n",
      "Epoch 49/200\n",
      "71/71 [==============================] - 0s 716us/step - loss: 0.4738 - recall: 0.7392 - val_loss: 0.4850 - val_recall: 0.7549\n",
      "Epoch 50/200\n",
      "71/71 [==============================] - 0s 770us/step - loss: 0.4719 - recall: 0.7529 - val_loss: 0.4366 - val_recall: 0.7010\n",
      "Epoch 51/200\n",
      "71/71 [==============================] - 0s 773us/step - loss: 0.4717 - recall: 0.7436 - val_loss: 0.4803 - val_recall: 0.7500\n",
      "Epoch 52/200\n",
      "71/71 [==============================] - 0s 759us/step - loss: 0.4711 - recall: 0.7496 - val_loss: 0.4795 - val_recall: 0.7500\n",
      "Epoch 53/200\n",
      "71/71 [==============================] - 0s 759us/step - loss: 0.4701 - recall: 0.7523 - val_loss: 0.5185 - val_recall: 0.7843\n",
      "Epoch 54/200\n",
      "71/71 [==============================] - 0s 801us/step - loss: 0.4704 - recall: 0.7545 - val_loss: 0.4735 - val_recall: 0.7451\n",
      "Epoch 55/200\n",
      "71/71 [==============================] - 0s 815us/step - loss: 0.4696 - recall: 0.7441 - val_loss: 0.4597 - val_recall: 0.7402\n",
      "Epoch 56/200\n",
      "71/71 [==============================] - 0s 801us/step - loss: 0.4692 - recall: 0.7550 - val_loss: 0.4532 - val_recall: 0.7304\n",
      "Epoch 57/200\n",
      "71/71 [==============================] - 0s 773us/step - loss: 0.4689 - recall: 0.7496 - val_loss: 0.4711 - val_recall: 0.7549\n",
      "Epoch 58/200\n",
      "71/71 [==============================] - 0s 773us/step - loss: 0.4685 - recall: 0.7556 - val_loss: 0.4518 - val_recall: 0.7353\n",
      "Epoch 59/200\n"
     ]
    },
    {
     "name": "stdout",
     "output_type": "stream",
     "text": [
      "71/71 [==============================] - 0s 745us/step - loss: 0.4681 - recall: 0.7600 - val_loss: 0.4806 - val_recall: 0.7598\n",
      "Epoch 60/200\n",
      "71/71 [==============================] - 0s 787us/step - loss: 0.4664 - recall: 0.7632 - val_loss: 0.4397 - val_recall: 0.7255\n",
      "Epoch 61/200\n",
      "71/71 [==============================] - 0s 759us/step - loss: 0.4671 - recall: 0.7561 - val_loss: 0.4431 - val_recall: 0.7157\n",
      "Epoch 62/200\n",
      "71/71 [==============================] - 0s 787us/step - loss: 0.4665 - recall: 0.7578 - val_loss: 0.4680 - val_recall: 0.7451\n",
      "Epoch 63/200\n",
      "71/71 [==============================] - 0s 773us/step - loss: 0.4664 - recall: 0.7523 - val_loss: 0.4764 - val_recall: 0.7598\n",
      "Epoch 64/200\n",
      "71/71 [==============================] - 0s 744us/step - loss: 0.4665 - recall: 0.7501 - val_loss: 0.5065 - val_recall: 0.7990\n",
      "Epoch 65/200\n",
      "71/71 [==============================] - 0s 759us/step - loss: 0.4658 - recall: 0.7605 - val_loss: 0.4679 - val_recall: 0.7549\n",
      "Epoch 00065: early stopping\n"
     ]
    },
    {
     "data": {
      "text/plain": [
       "<tensorflow.python.keras.callbacks.History at 0x230432b2340>"
      ]
     },
     "execution_count": 56,
     "metadata": {},
     "output_type": "execute_result"
    }
   ],
   "source": [
    "model = Sequential()\n",
    "\n",
    "model.add(Dense(16, activation=\"relu\"))\n",
    "model.add(Dense(8, activation=\"relu\"))\n",
    "model.add(Dense(1, activation=\"sigmoid\"))\n",
    "\n",
    "model.compile(optimizer=\"rmsprop\",\n",
    "              loss=\"binary_crossentropy\",\n",
    "              metrics=[\"Recall\"])\n",
    "\n",
    "model.fit(x=X_train,\n",
    "          y=y_train,\n",
    "          validation_data=(X_test, y_test),\n",
    "          callbacks=[early_stop],\n",
    "          batch_size=128,\n",
    "          epochs=200,\n",
    "          verbose=1,\n",
    "          class_weight=class_weights)"
   ]
  },
  {
   "cell_type": "code",
   "execution_count": 57,
   "metadata": {
    "cell_style": "split",
    "executionInfo": {
     "elapsed": 809,
     "status": "ok",
     "timestamp": 1610205470123,
     "user": {
      "displayName": "Richard C",
      "photoUrl": "",
      "userId": "08040814671867660929"
     },
     "user_tz": -180
    },
    "id": "vQIbjGQduQpQ",
    "scrolled": true
   },
   "outputs": [
    {
     "data": {
      "text/plain": [
       "<AxesSubplot:>"
      ]
     },
     "execution_count": 57,
     "metadata": {},
     "output_type": "execute_result"
    },
    {
     "data": {
      "image/png": "[encoded data removed]",
      "text/plain": [
       "<Figure size 864x432 with 1 Axes>"
      ]
     },
     "metadata": {},
     "output_type": "display_data"
    }
   ],
   "source": [
    "loss_df = pd.DataFrame(model.history.history)\n",
    "loss_df.plot()"
   ]
  },
  {
   "cell_type": "code",
   "execution_count": 58,
   "metadata": {
    "cell_style": "split",
    "scrolled": false
   },
   "outputs": [
    {
     "name": "stdout",
     "output_type": "stream",
     "text": [
      "[[620 176]\n",
      " [ 50 154]]\n",
      "              precision    recall  f1-score   support\n",
      "\n",
      "           0       0.93      0.78      0.85       796\n",
      "           1       0.47      0.75      0.58       204\n",
      "\n",
      "    accuracy                           0.77      1000\n",
      "   macro avg       0.70      0.77      0.71      1000\n",
      "weighted avg       0.83      0.77      0.79      1000\n",
      "\n"
     ]
    }
   ],
   "source": [
    "y_pred = model.predict_classes(X_test)\n",
    "print(confusion_matrix(y_test, y_pred))\n",
    "print(classification_report(y_test, y_pred))"
   ]
  },
  {
   "cell_type": "code",
   "execution_count": 59,
   "metadata": {},
   "outputs": [],
   "source": [
    "model.save('model_churn.h5')"
   ]
  },
  {
   "cell_type": "markdown",
   "metadata": {
    "id": "Cq10ovAX6daY"
   },
   "source": [
    "### Prediction"
   ]
  },
  {
   "cell_type": "code",
   "execution_count": 60,
   "metadata": {},
   "outputs": [
    {
     "data": {
      "text/plain": [
       "CreditScore            619.000\n",
       "Age                     42.000\n",
       "Tenure                   2.000\n",
       "Balance                  0.000\n",
       "NumOfProducts            1.000\n",
       "HasCrCard                1.000\n",
       "IsActiveMember           1.000\n",
       "EstimatedSalary     101348.880\n",
       "customer_value           3.000\n",
       "Geography_Germany        0.000\n",
       "Geography_Spain          0.000\n",
       "Gender_Male              0.000\n",
       "Name: 1, dtype: float64"
      ]
     },
     "execution_count": 60,
     "metadata": {},
     "output_type": "execute_result"
    }
   ],
   "source": [
    "single_customer = df.drop('Exited', axis=1).iloc[0]\n",
    "single_customer"
   ]
  },
  {
   "cell_type": "code",
   "execution_count": 61,
   "metadata": {},
   "outputs": [
    {
     "data": {
      "text/plain": [
       "array([[0.538     , 0.32432432, 0.2       , 0.        , 0.        ,\n",
       "        1.        , 1.        , 0.50673489, 0.5       , 0.        ,\n",
       "        0.        , 0.        ]])"
      ]
     },
     "execution_count": 61,
     "metadata": {},
     "output_type": "execute_result"
    }
   ],
   "source": [
    "single_customer = scaler.transform(single_customer.values.reshape(-1, 12))\n",
    "single_customer"
   ]
  },
  {
   "cell_type": "code",
   "execution_count": 62,
   "metadata": {},
   "outputs": [
    {
     "data": {
      "text/plain": [
       "array([[1]])"
      ]
     },
     "execution_count": 62,
     "metadata": {},
     "output_type": "execute_result"
    }
   ],
   "source": [
    "model.predict_classes(single_customer)"
   ]
  },
  {
   "cell_type": "code",
   "execution_count": 63,
   "metadata": {},
   "outputs": [
    {
     "data": {
      "text/plain": [
       "1"
      ]
     },
     "execution_count": 63,
     "metadata": {},
     "output_type": "execute_result"
    }
   ],
   "source": [
    "df[\"Exited\"].iloc[0]"
   ]
  },
  {
   "cell_type": "markdown",
   "metadata": {},
   "source": [
    "---\n",
    "---"
   ]
  },
  {
   "cell_type": "markdown",
   "metadata": {},
   "source": [
    "## Comparison with ML"
   ]
  },
  {
   "cell_type": "code",
   "execution_count": 64,
   "metadata": {},
   "outputs": [],
   "source": [
    "from sklearn.pipeline import Pipeline\n",
    "from sklearn.ensemble import RandomForestClassifier\n",
    "from sklearn.svm import SVC\n",
    "from sklearn.linear_model import LogisticRegression"
   ]
  },
  {
   "cell_type": "code",
   "execution_count": 65,
   "metadata": {},
   "outputs": [],
   "source": [
    "clf1 = RandomForestClassifier(random_state=42, class_weight=\"balanced\")\n",
    "clf2 = SVC(probability=True, random_state=42, class_weight=\"balanced\")\n",
    "clf3 = LogisticRegression(random_state=42, class_weight=\"balanced\")"
   ]
  },
  {
   "cell_type": "code",
   "execution_count": 74,
   "metadata": {},
   "outputs": [
    {
     "data": {
      "text/plain": [
       "[0.01, 0.1, 1, 10, 100]"
      ]
     },
     "execution_count": 74,
     "metadata": {},
     "output_type": "execute_result"
    }
   ],
   "source": [
    "[10**(-2+i) for i in range(5)]"
   ]
  },
  {
   "cell_type": "code",
   "execution_count": 66,
   "metadata": {
    "cell_style": "split"
   },
   "outputs": [],
   "source": [
    "# Initiaze the hyperparameters for each dictionary\n",
    "param1 = {}\n",
    "param1['classifier__n_estimators'] = [10, 50, 100, 250]\n",
    "param1['classifier__max_depth'] = [5, 10, 20]\n",
    "param1['classifier'] = [clf1]\n",
    "\n",
    "param2 = {}\n",
    "param2['classifier__C'] = [10**(-2+i) for i in range(5)]\n",
    "param2['classifier'] = [clf2]\n",
    "\n",
    "param3 = {}\n",
    "param3['classifier__C'] = [10**(-2+i) for i in range(5)]\n",
    "param3['classifier__penalty'] = ['l1', 'l2']\n",
    "param3['classifier'] = [clf3]"
   ]
  },
  {
   "cell_type": "code",
   "execution_count": 67,
   "metadata": {
    "cell_style": "split"
   },
   "outputs": [],
   "source": [
    "pipeline = Pipeline([('classifier', clf1)])\n",
    "params = [param1, param2, param3]"
   ]
  },
  {
   "cell_type": "code",
   "execution_count": 68,
   "metadata": {
    "cell_style": "center"
   },
   "outputs": [],
   "source": [
    "grid_model = GridSearchCV(pipeline, params, cv=5, n_jobs=-1,\n",
    "                  scoring='recall').fit(X_train, y_train)"
   ]
  },
  {
   "cell_type": "code",
   "execution_count": 69,
   "metadata": {
    "cell_style": "center"
   },
   "outputs": [
    {
     "data": {
      "text/plain": [
       "{'classifier': RandomForestClassifier(class_weight='balanced', max_depth=5, n_estimators=250,\n",
       "                        random_state=42),\n",
       " 'classifier__max_depth': 5,\n",
       " 'classifier__n_estimators': 250}"
      ]
     },
     "execution_count": 69,
     "metadata": {},
     "output_type": "execute_result"
    }
   ],
   "source": [
    "grid_model.best_params_"
   ]
  },
  {
   "cell_type": "code",
   "execution_count": 70,
   "metadata": {
    "cell_style": "center"
   },
   "outputs": [
    {
     "data": {
      "text/plain": [
       "0.7141272464674439"
      ]
     },
     "execution_count": 70,
     "metadata": {},
     "output_type": "execute_result"
    }
   ],
   "source": [
    "grid_model.best_score_"
   ]
  },
  {
   "cell_type": "code",
   "execution_count": 71,
   "metadata": {
    "cell_style": "split"
   },
   "outputs": [
    {
     "data": {
      "image/png": "[encoded data removed]",
      "text/plain": [
       "<Figure size 864x432 with 1 Axes>"
      ]
     },
     "metadata": {},
     "output_type": "display_data"
    }
   ],
   "source": [
    "y_pred_proba = grid_model.predict_proba(X_test)[:, 1]\n",
    "precisions, recalls, thresholds = precision_recall_curve(y_test, y_pred_proba)\n",
    "plt.plot(recalls, precisions, label='RF')\n",
    "plt.xlabel('recalls')\n",
    "plt.ylabel('precisions')\n",
    "plt.title('Precision-Recall curve')\n",
    "plt.show()"
   ]
  },
  {
   "cell_type": "code",
   "execution_count": 72,
   "metadata": {
    "cell_style": "split"
   },
   "outputs": [
    {
     "data": {
      "text/plain": [
       "0.6703619323498627"
      ]
     },
     "execution_count": 72,
     "metadata": {},
     "output_type": "execute_result"
    }
   ],
   "source": [
    "average_precision_score(y_test, y_pred_proba)"
   ]
  },
  {
   "cell_type": "code",
   "execution_count": 73,
   "metadata": {
    "cell_style": "split",
    "scrolled": true
   },
   "outputs": [
    {
     "name": "stdout",
     "output_type": "stream",
     "text": [
      "[[643 153]\n",
      " [ 52 152]]\n",
      "              precision    recall  f1-score   support\n",
      "\n",
      "           0       0.93      0.81      0.86       796\n",
      "           1       0.50      0.75      0.60       204\n",
      "\n",
      "    accuracy                           0.80      1000\n",
      "   macro avg       0.71      0.78      0.73      1000\n",
      "weighted avg       0.84      0.80      0.81      1000\n",
      "\n"
     ]
    }
   ],
   "source": [
    "y_pred = grid_model.predict(X_test)\n",
    "\n",
    "print(confusion_matrix(y_test, y_pred))\n",
    "print(classification_report(y_test, y_pred))"
   ]
  },
  {
   "cell_type": "markdown",
   "metadata": {},
   "source": [
    "---\n",
    "---"
   ]
  }
 ],
 "metadata": {
  "colab": {
   "authorship_tag": "ABX9TyPKBWWuNpSuP7DHsa+Zpo3l",
   "collapsed_sections": [],
   "name": "Untitled0.ipynb",
   "provenance": []
  },
  "hide_input": false,
  "interpreter": {
   "hash": "e4e90950cb561445fc7289d5187c528b28750a487d008a70b474c773afaf79b7"
  },
  "kernelspec": {
   "display_name": "Python 3",
   "language": "python",
   "name": "python3"
  },
  "language_info": {
   "codemirror_mode": {
    "name": "ipython",
    "version": 3
   },
   "file_extension": ".py",
   "mimetype": "text/x-python",
   "name": "python",
   "nbconvert_exporter": "python",
   "pygments_lexer": "ipython3",
   "version": "3.8.8"
  },
  "varInspector": {
   "cols": {
    "lenName": 16,
    "lenType": 16,
    "lenVar": 40
   },
   "kernels_config": {
    "python": {
     "delete_cmd_postfix": "",
     "delete_cmd_prefix": "del ",
     "library": "var_list.py",
     "varRefreshCmd": "print(var_dic_list())"
    },
    "r": {
     "delete_cmd_postfix": ") ",
     "delete_cmd_prefix": "rm(",
     "library": "var_list.r",
     "varRefreshCmd": "cat(var_dic_list()) "
    }
   },
   "types_to_exclude": [
    "module",
    "function",
    "builtin_function_or_method",
    "instance",
    "_Feature"
   ],
   "window_display": false
  }
 },
 "nbformat": 4,
 "nbformat_minor": 4
}
